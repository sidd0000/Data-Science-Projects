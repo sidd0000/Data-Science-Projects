{
 "cells": [
  {
   "cell_type": "markdown",
   "id": "7fc61472",
   "metadata": {},
   "source": [
    "### Uber Data Analsysis With Python"
   ]
  },
  {
   "cell_type": "markdown",
   "id": "aee017ba",
   "metadata": {},
   "source": [
    "**Uber Technologies, Inc**., commonly known as Uber, is ans American technology company. Its services include ride-hailing, food delivery, package\n",
    "delivery, couriers, freight tranportation, and through a partnership with Lime, electric bicycle and motorized scooter rental.\n",
    "\n",
    "But, we will mainly use data regarding **Uber ride** and use **Python** to analyse the data.\n",
    "\n",
    "We wish to answer the below following questions:\n",
    "- Check how long do people travel with Uber?\n",
    "- What Hour Do Most People take Uber To Their Destination?\n",
    "- Check The purpose of trips\n",
    "- Which Day has the highest number of trips\n",
    "- What are the number of trips per each day?\n",
    "- What are the trips in the month\n",
    "- The starting points of trips. Where do people start boarding their trip from Most?"
   ]
  },
  {
   "cell_type": "markdown",
   "id": "dbf494fd",
   "metadata": {},
   "source": [
    "### Import Libraries"
   ]
  },
  {
   "cell_type": "code",
   "execution_count": 1,
   "id": "b0c5f491",
   "metadata": {},
   "outputs": [],
   "source": [
    "import pandas as pd\n",
    "import numpy as np\n",
    "import matplotlib.pyplot as plt\n",
    "import seaborn as sns\n",
    "import calendar\n",
    "\n",
    "import os"
   ]
  },
  {
   "cell_type": "markdown",
   "id": "98b33cef",
   "metadata": {},
   "source": [
    "### Loading dataset"
   ]
  },
  {
   "cell_type": "code",
   "execution_count": 2,
   "id": "a4877584",
   "metadata": {},
   "outputs": [
    {
     "data": {
      "text/html": [
       "<div>\n",
       "<style scoped>\n",
       "    .dataframe tbody tr th:only-of-type {\n",
       "        vertical-align: middle;\n",
       "    }\n",
       "\n",
       "    .dataframe tbody tr th {\n",
       "        vertical-align: top;\n",
       "    }\n",
       "\n",
       "    .dataframe thead th {\n",
       "        text-align: right;\n",
       "    }\n",
       "</style>\n",
       "<table border=\"1\" class=\"dataframe\">\n",
       "  <thead>\n",
       "    <tr style=\"text-align: right;\">\n",
       "      <th></th>\n",
       "      <th>START_DATE*</th>\n",
       "      <th>END_DATE*</th>\n",
       "      <th>CATEGORY*</th>\n",
       "      <th>START*</th>\n",
       "      <th>STOP*</th>\n",
       "      <th>MILES*</th>\n",
       "      <th>PURPOSE*</th>\n",
       "    </tr>\n",
       "  </thead>\n",
       "  <tbody>\n",
       "    <tr>\n",
       "      <th>0</th>\n",
       "      <td>1/1/2016 21:11</td>\n",
       "      <td>1/1/2016 21:17</td>\n",
       "      <td>Business</td>\n",
       "      <td>Fort Pierce</td>\n",
       "      <td>Fort Pierce</td>\n",
       "      <td>5.1</td>\n",
       "      <td>Meal/Entertain</td>\n",
       "    </tr>\n",
       "    <tr>\n",
       "      <th>1</th>\n",
       "      <td>1/2/2016 1:25</td>\n",
       "      <td>1/2/2016 1:37</td>\n",
       "      <td>Business</td>\n",
       "      <td>Fort Pierce</td>\n",
       "      <td>Fort Pierce</td>\n",
       "      <td>5.0</td>\n",
       "      <td>NaN</td>\n",
       "    </tr>\n",
       "    <tr>\n",
       "      <th>2</th>\n",
       "      <td>1/2/2016 20:25</td>\n",
       "      <td>1/2/2016 20:38</td>\n",
       "      <td>Business</td>\n",
       "      <td>Fort Pierce</td>\n",
       "      <td>Fort Pierce</td>\n",
       "      <td>4.8</td>\n",
       "      <td>Errand/Supplies</td>\n",
       "    </tr>\n",
       "    <tr>\n",
       "      <th>3</th>\n",
       "      <td>1/5/2016 17:31</td>\n",
       "      <td>1/5/2016 17:45</td>\n",
       "      <td>Business</td>\n",
       "      <td>Fort Pierce</td>\n",
       "      <td>Fort Pierce</td>\n",
       "      <td>4.7</td>\n",
       "      <td>Meeting</td>\n",
       "    </tr>\n",
       "    <tr>\n",
       "      <th>4</th>\n",
       "      <td>1/6/2016 14:42</td>\n",
       "      <td>1/6/2016 15:49</td>\n",
       "      <td>Business</td>\n",
       "      <td>Fort Pierce</td>\n",
       "      <td>West Palm Beach</td>\n",
       "      <td>63.7</td>\n",
       "      <td>Customer Visit</td>\n",
       "    </tr>\n",
       "  </tbody>\n",
       "</table>\n",
       "</div>"
      ],
      "text/plain": [
       "      START_DATE*       END_DATE* CATEGORY*       START*            STOP*  \\\n",
       "0  1/1/2016 21:11  1/1/2016 21:17  Business  Fort Pierce      Fort Pierce   \n",
       "1   1/2/2016 1:25   1/2/2016 1:37  Business  Fort Pierce      Fort Pierce   \n",
       "2  1/2/2016 20:25  1/2/2016 20:38  Business  Fort Pierce      Fort Pierce   \n",
       "3  1/5/2016 17:31  1/5/2016 17:45  Business  Fort Pierce      Fort Pierce   \n",
       "4  1/6/2016 14:42  1/6/2016 15:49  Business  Fort Pierce  West Palm Beach   \n",
       "\n",
       "   MILES*         PURPOSE*  \n",
       "0     5.1   Meal/Entertain  \n",
       "1     5.0              NaN  \n",
       "2     4.8  Errand/Supplies  \n",
       "3     4.7          Meeting  \n",
       "4    63.7   Customer Visit  "
      ]
     },
     "execution_count": 2,
     "metadata": {},
     "output_type": "execute_result"
    }
   ],
   "source": [
    "df = pd.read_csv(\"Uber Drives.csv\")\n",
    "df.head()"
   ]
  },
  {
   "cell_type": "code",
   "execution_count": 3,
   "id": "2ecf2817",
   "metadata": {},
   "outputs": [
    {
     "name": "stdout",
     "output_type": "stream",
     "text": [
      "(1156, 7)\n"
     ]
    },
    {
     "data": {
      "text/plain": [
       "START_DATE*     object\n",
       "END_DATE*       object\n",
       "CATEGORY*       object\n",
       "START*          object\n",
       "STOP*           object\n",
       "MILES*         float64\n",
       "PURPOSE*        object\n",
       "dtype: object"
      ]
     },
     "execution_count": 3,
     "metadata": {},
     "output_type": "execute_result"
    }
   ],
   "source": [
    "print(df.shape)\n",
    "df.dtypes"
   ]
  },
  {
   "cell_type": "markdown",
   "id": "490fea2a",
   "metadata": {},
   "source": [
    ">There are 6 categorical variables and 1 numerical variable. <br>\n",
    "Here STAR_DATE and END_DATE are in object type. We need to convert them into datetime variable."
   ]
  },
  {
   "cell_type": "markdown",
   "id": "2059274e",
   "metadata": {},
   "source": [
    "### Check for null values"
   ]
  },
  {
   "cell_type": "code",
   "execution_count": 4,
   "id": "99693165",
   "metadata": {},
   "outputs": [
    {
     "data": {
      "text/plain": [
       "START_DATE*    False\n",
       "END_DATE*       True\n",
       "CATEGORY*       True\n",
       "START*          True\n",
       "STOP*           True\n",
       "MILES*         False\n",
       "PURPOSE*        True\n",
       "dtype: bool"
      ]
     },
     "execution_count": 4,
     "metadata": {},
     "output_type": "execute_result"
    }
   ],
   "source": [
    "df.isnull().any() # it will check for column with one or more null values"
   ]
  },
  {
   "cell_type": "markdown",
   "id": "4cd23a43",
   "metadata": {},
   "source": [
    "> *So, END_DATE, CATEGORY, START, STOP, PURPOSE column have missing values in it.*"
   ]
  },
  {
   "cell_type": "code",
   "execution_count": 5,
   "id": "80fc88bc",
   "metadata": {},
   "outputs": [
    {
     "data": {
      "text/plain": [
       "START_DATE*      0\n",
       "END_DATE*        1\n",
       "CATEGORY*        1\n",
       "START*           1\n",
       "STOP*            1\n",
       "MILES*           0\n",
       "PURPOSE*       503\n",
       "dtype: int64"
      ]
     },
     "execution_count": 5,
     "metadata": {},
     "output_type": "execute_result"
    }
   ],
   "source": [
    "# to check for how many\n",
    "\n",
    "df.isnull().sum()"
   ]
  },
  {
   "cell_type": "code",
   "execution_count": 6,
   "id": "80a4a66a",
   "metadata": {},
   "outputs": [
    {
     "name": "stdout",
     "output_type": "stream",
     "text": [
      "Index([1155], dtype='int64')\n"
     ]
    },
    {
     "data": {
      "text/html": [
       "<div>\n",
       "<style scoped>\n",
       "    .dataframe tbody tr th:only-of-type {\n",
       "        vertical-align: middle;\n",
       "    }\n",
       "\n",
       "    .dataframe tbody tr th {\n",
       "        vertical-align: top;\n",
       "    }\n",
       "\n",
       "    .dataframe thead th {\n",
       "        text-align: right;\n",
       "    }\n",
       "</style>\n",
       "<table border=\"1\" class=\"dataframe\">\n",
       "  <thead>\n",
       "    <tr style=\"text-align: right;\">\n",
       "      <th></th>\n",
       "      <th>START_DATE*</th>\n",
       "      <th>END_DATE*</th>\n",
       "      <th>CATEGORY*</th>\n",
       "      <th>START*</th>\n",
       "      <th>STOP*</th>\n",
       "      <th>MILES*</th>\n",
       "      <th>PURPOSE*</th>\n",
       "    </tr>\n",
       "  </thead>\n",
       "  <tbody>\n",
       "    <tr>\n",
       "      <th>1155</th>\n",
       "      <td>Totals</td>\n",
       "      <td>NaN</td>\n",
       "      <td>NaN</td>\n",
       "      <td>NaN</td>\n",
       "      <td>NaN</td>\n",
       "      <td>12204.7</td>\n",
       "      <td>NaN</td>\n",
       "    </tr>\n",
       "  </tbody>\n",
       "</table>\n",
       "</div>"
      ],
      "text/plain": [
       "     START_DATE* END_DATE* CATEGORY* START* STOP*   MILES* PURPOSE*\n",
       "1155      Totals       NaN       NaN    NaN   NaN  12204.7      NaN"
      ]
     },
     "execution_count": 6,
     "metadata": {},
     "output_type": "execute_result"
    }
   ],
   "source": [
    "# to exactly see Null record in END_DATE* column\n",
    "\n",
    "print(df[df['END_DATE*'].isna()].index)\n",
    "\n",
    "df[df['END_DATE*'].isna()]"
   ]
  },
  {
   "cell_type": "markdown",
   "id": "76b13409",
   "metadata": {},
   "source": [
    "> As we can see this row contains null value for most of the columns. We will delete it."
   ]
  },
  {
   "cell_type": "code",
   "execution_count": 7,
   "id": "10a9ad61",
   "metadata": {},
   "outputs": [],
   "source": [
    "# dropping row contaning null value for 'END_DATE*' column, by passing it's index\n",
    "\n",
    "df.drop(df[df['END_DATE*'].isna()].index, axis = 0, inplace = True)"
   ]
  },
  {
   "cell_type": "code",
   "execution_count": 8,
   "id": "29eb1c7a",
   "metadata": {},
   "outputs": [
    {
     "data": {
      "text/plain": [
       "START_DATE*      0\n",
       "END_DATE*        0\n",
       "CATEGORY*        0\n",
       "START*           0\n",
       "STOP*            0\n",
       "MILES*           0\n",
       "PURPOSE*       502\n",
       "dtype: int64"
      ]
     },
     "execution_count": 8,
     "metadata": {},
     "output_type": "execute_result"
    }
   ],
   "source": [
    "df.isnull().sum()"
   ]
  },
  {
   "cell_type": "markdown",
   "id": "725a6ba3",
   "metadata": {},
   "source": [
    "> *Now, only PURPOSE\\* column has missing values.*"
   ]
  },
  {
   "cell_type": "code",
   "execution_count": 9,
   "id": "6a681f7e",
   "metadata": {},
   "outputs": [
    {
     "name": "stdout",
     "output_type": "stream",
     "text": [
      "<class 'pandas.core.frame.DataFrame'>\n",
      "RangeIndex: 1155 entries, 0 to 1154\n",
      "Data columns (total 7 columns):\n",
      " #   Column       Non-Null Count  Dtype  \n",
      "---  ------       --------------  -----  \n",
      " 0   START_DATE*  1155 non-null   object \n",
      " 1   END_DATE*    1155 non-null   object \n",
      " 2   CATEGORY*    1155 non-null   object \n",
      " 3   START*       1155 non-null   object \n",
      " 4   STOP*        1155 non-null   object \n",
      " 5   MILES*       1155 non-null   float64\n",
      " 6   PURPOSE*     653 non-null    object \n",
      "dtypes: float64(1), object(6)\n",
      "memory usage: 63.3+ KB\n"
     ]
    }
   ],
   "source": [
    "df.info()"
   ]
  },
  {
   "cell_type": "markdown",
   "id": "371327ed",
   "metadata": {},
   "source": [
    "Now, only Purpose column has null values and **it is more than 55% of the total**. So I'm dropping this<br> columns and excluding this from this analsysis.**\n",
    "\n",
    "**# One may try to replace NULL with something and keep Purpose column like shown below**<br>\n",
    "\n",
    "#filling the null values with a NOT keyword.<br>\n",
    "**df['PURPOSE'].fillna(\"NOT\", inplace=True)**\n",
    "\n",
    "**# You may also delete the null value rows and keep this column for analysis like below.**\n",
    "\n",
    "<span style='background:cyan'> sns.countplot(df['PURPOSE*'], order = df['PURPOSE*'].value_counts().index) </span>"
   ]
  },
  {
   "cell_type": "code",
   "execution_count": 10,
   "id": "011c89ac",
   "metadata": {},
   "outputs": [
    {
     "data": {
      "text/html": [
       "<div>\n",
       "<style scoped>\n",
       "    .dataframe tbody tr th:only-of-type {\n",
       "        vertical-align: middle;\n",
       "    }\n",
       "\n",
       "    .dataframe tbody tr th {\n",
       "        vertical-align: top;\n",
       "    }\n",
       "\n",
       "    .dataframe thead th {\n",
       "        text-align: right;\n",
       "    }\n",
       "</style>\n",
       "<table border=\"1\" class=\"dataframe\">\n",
       "  <thead>\n",
       "    <tr style=\"text-align: right;\">\n",
       "      <th></th>\n",
       "      <th>START_DATE*</th>\n",
       "      <th>END_DATE*</th>\n",
       "      <th>CATEGORY*</th>\n",
       "      <th>START*</th>\n",
       "      <th>STOP*</th>\n",
       "      <th>MILES*</th>\n",
       "    </tr>\n",
       "  </thead>\n",
       "  <tbody>\n",
       "    <tr>\n",
       "      <th>0</th>\n",
       "      <td>1/1/2016 21:11</td>\n",
       "      <td>1/1/2016 21:17</td>\n",
       "      <td>Business</td>\n",
       "      <td>Fort Pierce</td>\n",
       "      <td>Fort Pierce</td>\n",
       "      <td>5.1</td>\n",
       "    </tr>\n",
       "    <tr>\n",
       "      <th>1</th>\n",
       "      <td>1/2/2016 1:25</td>\n",
       "      <td>1/2/2016 1:37</td>\n",
       "      <td>Business</td>\n",
       "      <td>Fort Pierce</td>\n",
       "      <td>Fort Pierce</td>\n",
       "      <td>5.0</td>\n",
       "    </tr>\n",
       "  </tbody>\n",
       "</table>\n",
       "</div>"
      ],
      "text/plain": [
       "      START_DATE*       END_DATE* CATEGORY*       START*        STOP*  MILES*\n",
       "0  1/1/2016 21:11  1/1/2016 21:17  Business  Fort Pierce  Fort Pierce     5.1\n",
       "1   1/2/2016 1:25   1/2/2016 1:37  Business  Fort Pierce  Fort Pierce     5.0"
      ]
     },
     "execution_count": 10,
     "metadata": {},
     "output_type": "execute_result"
    }
   ],
   "source": [
    "# dropping Purpose column\n",
    "\n",
    "df.drop(['PURPOSE*'], axis = 1, inplace = True)  # give axis=0, for removing row\n",
    "df.head(2)"
   ]
  },
  {
   "cell_type": "markdown",
   "id": "24a22970",
   "metadata": {},
   "source": [
    "### Checking for duplicate rows"
   ]
  },
  {
   "cell_type": "code",
   "execution_count": 11,
   "id": "f26f8f74",
   "metadata": {},
   "outputs": [
    {
     "data": {
      "text/html": [
       "<div>\n",
       "<style scoped>\n",
       "    .dataframe tbody tr th:only-of-type {\n",
       "        vertical-align: middle;\n",
       "    }\n",
       "\n",
       "    .dataframe tbody tr th {\n",
       "        vertical-align: top;\n",
       "    }\n",
       "\n",
       "    .dataframe thead th {\n",
       "        text-align: right;\n",
       "    }\n",
       "</style>\n",
       "<table border=\"1\" class=\"dataframe\">\n",
       "  <thead>\n",
       "    <tr style=\"text-align: right;\">\n",
       "      <th></th>\n",
       "      <th>START_DATE*</th>\n",
       "      <th>END_DATE*</th>\n",
       "      <th>CATEGORY*</th>\n",
       "      <th>START*</th>\n",
       "      <th>STOP*</th>\n",
       "      <th>MILES*</th>\n",
       "    </tr>\n",
       "  </thead>\n",
       "  <tbody>\n",
       "    <tr>\n",
       "      <th>492</th>\n",
       "      <td>6/28/2016 23:34</td>\n",
       "      <td>6/28/2016 23:59</td>\n",
       "      <td>Business</td>\n",
       "      <td>Durham</td>\n",
       "      <td>Cary</td>\n",
       "      <td>9.9</td>\n",
       "    </tr>\n",
       "  </tbody>\n",
       "</table>\n",
       "</div>"
      ],
      "text/plain": [
       "         START_DATE*        END_DATE* CATEGORY*  START* STOP*  MILES*\n",
       "492  6/28/2016 23:34  6/28/2016 23:59  Business  Durham  Cary     9.9"
      ]
     },
     "execution_count": 11,
     "metadata": {},
     "output_type": "execute_result"
    }
   ],
   "source": [
    "df[df.duplicated()]"
   ]
  },
  {
   "cell_type": "markdown",
   "id": "e8a87d8e",
   "metadata": {},
   "source": [
    "> We will remove this duplicate row."
   ]
  },
  {
   "cell_type": "code",
   "execution_count": 12,
   "id": "b8236091",
   "metadata": {},
   "outputs": [
    {
     "data": {
      "text/html": [
       "<div>\n",
       "<style scoped>\n",
       "    .dataframe tbody tr th:only-of-type {\n",
       "        vertical-align: middle;\n",
       "    }\n",
       "\n",
       "    .dataframe tbody tr th {\n",
       "        vertical-align: top;\n",
       "    }\n",
       "\n",
       "    .dataframe thead th {\n",
       "        text-align: right;\n",
       "    }\n",
       "</style>\n",
       "<table border=\"1\" class=\"dataframe\">\n",
       "  <thead>\n",
       "    <tr style=\"text-align: right;\">\n",
       "      <th></th>\n",
       "      <th>START_DATE*</th>\n",
       "      <th>END_DATE*</th>\n",
       "      <th>CATEGORY*</th>\n",
       "      <th>START*</th>\n",
       "      <th>STOP*</th>\n",
       "      <th>MILES*</th>\n",
       "    </tr>\n",
       "  </thead>\n",
       "  <tbody>\n",
       "  </tbody>\n",
       "</table>\n",
       "</div>"
      ],
      "text/plain": [
       "Empty DataFrame\n",
       "Columns: [START_DATE*, END_DATE*, CATEGORY*, START*, STOP*, MILES*]\n",
       "Index: []"
      ]
     },
     "execution_count": 12,
     "metadata": {},
     "output_type": "execute_result"
    }
   ],
   "source": [
    "df.drop(df[df.duplicated()].index, axis=0, inplace=True)  # give axis = 1, for removing column\n",
    "\n",
    "df[df.duplicated()]"
   ]
  },
  {
   "cell_type": "markdown",
   "id": "e53e5579",
   "metadata": {},
   "source": [
    "### Converting START_DATE* and END_START* columns data type to date_time format"
   ]
  },
  {
   "cell_type": "code",
   "execution_count": 13,
   "id": "529d298a",
   "metadata": {},
   "outputs": [
    {
     "data": {
      "text/plain": [
       "START_DATE*    datetime64[ns]\n",
       "END_DATE*      datetime64[ns]\n",
       "CATEGORY*              object\n",
       "START*                 object\n",
       "STOP*                  object\n",
       "MILES*                float64\n",
       "dtype: object"
      ]
     },
     "execution_count": 13,
     "metadata": {},
     "output_type": "execute_result"
    }
   ],
   "source": [
    "#df['START_DATE*'] = pd.to_datetime(df['START_DATE*'], format = '%m/%d%Y %H:%M') # gave error\n",
    "#df['END_DATE*'] = pd.to_datetime(df['END_DATE*'], format = '%m/%d%Y %H:%M')\n",
    "\n",
    "df['START_DATE*'] = pd.to_datetime(df['START_DATE*'], format = 'mixed')\n",
    "df['END_DATE*'] = pd.to_datetime(df['END_DATE*'], format = 'mixed')\n",
    "\n",
    "df.dtypes"
   ]
  },
  {
   "cell_type": "markdown",
   "id": "68eb816e",
   "metadata": {},
   "source": [
    "## EDA"
   ]
  },
  {
   "cell_type": "markdown",
   "id": "fbb6c605",
   "metadata": {},
   "source": [
    "### Univariate"
   ]
  },
  {
   "cell_type": "markdown",
   "id": "98699f35",
   "metadata": {},
   "source": [
    "### 1. Category"
   ]
  },
  {
   "cell_type": "code",
   "execution_count": 14,
   "id": "4001d1c1",
   "metadata": {},
   "outputs": [
    {
     "data": {
      "text/plain": [
       "array(['Business', 'Personal'], dtype=object)"
      ]
     },
     "execution_count": 14,
     "metadata": {},
     "output_type": "execute_result"
    }
   ],
   "source": [
    "df['CATEGORY*'].unique()"
   ]
  },
  {
   "cell_type": "markdown",
   "id": "8a0073ab",
   "metadata": {},
   "source": [
    ">There are 2 ride-categories:-\n",
    "> 1. **Business**: For work related & \n",
    "> 2. **Personal**: For personal travel"
   ]
  },
  {
   "cell_type": "code",
   "execution_count": 15,
   "id": "12b1d54f",
   "metadata": {},
   "outputs": [
    {
     "data": {
      "text/plain": [
       "CATEGORY*\n",
       "Business    1077\n",
       "Personal      77\n",
       "Name: count, dtype: int64"
      ]
     },
     "execution_count": 15,
     "metadata": {},
     "output_type": "execute_result"
    }
   ],
   "source": [
    "df['CATEGORY*'].value_counts()"
   ]
  },
  {
   "cell_type": "code",
   "execution_count": 16,
   "id": "bfbd47b3",
   "metadata": {},
   "outputs": [
    {
     "data": {
      "text/plain": [
       "CATEGORY*\n",
       "Business    0.933276\n",
       "Personal    0.066724\n",
       "Name: proportion, dtype: float64"
      ]
     },
     "execution_count": 16,
     "metadata": {},
     "output_type": "execute_result"
    }
   ],
   "source": [
    "# to find their each percentage\n",
    "\n",
    "df['CATEGORY*'].value_counts(normalize=True)"
   ]
  },
  {
   "cell_type": "code",
   "execution_count": 17,
   "id": "2826b52c",
   "metadata": {},
   "outputs": [
    {
     "data": {
      "text/plain": [
       "<Axes: xlabel='CATEGORY*', ylabel='count'>"
      ]
     },
     "execution_count": 17,
     "metadata": {},
     "output_type": "execute_result"
    },
    {
     "data": {
      "image/png": "[encoded data removed]",
      "text/plain": [
       "<Figure size 640x480 with 1 Axes>"
      ]
     },
     "metadata": {},
     "output_type": "display_data"
    }
   ],
   "source": [
    "sns.countplot(x = 'CATEGORY*', data = df)"
   ]
  },
  {
   "cell_type": "markdown",
   "id": "97c78f5c",
   "metadata": {},
   "source": [
    "> Most of the Trip is for **Business reason**."
   ]
  },
  {
   "cell_type": "code",
   "execution_count": 18,
   "id": "8797fab8",
   "metadata": {},
   "outputs": [
    {
     "data": {
      "text/html": [
       "<div>\n",
       "<style scoped>\n",
       "    .dataframe tbody tr th:only-of-type {\n",
       "        vertical-align: middle;\n",
       "    }\n",
       "\n",
       "    .dataframe tbody tr th {\n",
       "        vertical-align: top;\n",
       "    }\n",
       "\n",
       "    .dataframe thead th {\n",
       "        text-align: right;\n",
       "    }\n",
       "</style>\n",
       "<table border=\"1\" class=\"dataframe\">\n",
       "  <thead>\n",
       "    <tr style=\"text-align: right;\">\n",
       "      <th></th>\n",
       "      <th>tot_miles</th>\n",
       "    </tr>\n",
       "    <tr>\n",
       "      <th>CATEGORY*</th>\n",
       "      <th></th>\n",
       "    </tr>\n",
       "  </thead>\n",
       "  <tbody>\n",
       "    <tr>\n",
       "      <th>Business</th>\n",
       "      <td>11477.1</td>\n",
       "    </tr>\n",
       "    <tr>\n",
       "      <th>Personal</th>\n",
       "      <td>717.7</td>\n",
       "    </tr>\n",
       "  </tbody>\n",
       "</table>\n",
       "</div>"
      ],
      "text/plain": [
       "           tot_miles\n",
       "CATEGORY*           \n",
       "Business     11477.1\n",
       "Personal       717.7"
      ]
     },
     "execution_count": 18,
     "metadata": {},
     "output_type": "execute_result"
    }
   ],
   "source": [
    "# Total_Miles for each category\n",
    "\n",
    "df[['CATEGORY*','MILES*']].groupby(['CATEGORY*']).agg(tot_miles =('MILES*','sum'))"
   ]
  },
  {
   "cell_type": "code",
   "execution_count": 19,
   "id": "912d2a7a",
   "metadata": {},
   "outputs": [
    {
     "data": {
      "text/plain": [
       "(array([0, 1]), [Text(0, 0, 'Business'), Text(1, 0, 'Personal')])"
      ]
     },
     "execution_count": 19,
     "metadata": {},
     "output_type": "execute_result"
    },
    {
     "data": {
      "text/plain": [
       "<Figure size 640x480 with 0 Axes>"
      ]
     },
     "metadata": {},
     "output_type": "display_data"
    },
    {
     "data": {
      "image/png": "[encoded data removed]",
      "text/plain": [
       "<Figure size 640x480 with 1 Axes>"
      ]
     },
     "metadata": {},
     "output_type": "display_data"
    }
   ],
   "source": [
    "plt.figure()\n",
    "\n",
    "df[['CATEGORY*','MILES*']].groupby(['CATEGORY*']).agg(tot_miles =('MILES*','sum')).plot(kind='bar')\n",
    "\n",
    "plt.title('Total Miles per Category')\n",
    "plt.ylabel('Total Miles')\n",
    "plt.xlabel('Category')\n",
    "plt.xticks(rotation = 0)"
   ]
  },
  {
   "cell_type": "markdown",
   "id": "a3e05857",
   "metadata": {},
   "source": [
    ">**User mainly uses UBER Cars for it's Business purpose.**\n",
    ">- Around 94% miles was consumed during Business trips.\n",
    ">- Only 6% miles were consumed during personal trips."
   ]
  },
  {
   "cell_type": "markdown",
   "id": "68698f87",
   "metadata": {},
   "source": [
    "### 2. START*"
   ]
  },
  {
   "cell_type": "code",
   "execution_count": 20,
   "id": "f1876fe6",
   "metadata": {},
   "outputs": [
    {
     "data": {
      "text/plain": [
       "177"
      ]
     },
     "execution_count": 20,
     "metadata": {},
     "output_type": "execute_result"
    }
   ],
   "source": [
    "len(df['START*'].unique())"
   ]
  },
  {
   "cell_type": "markdown",
   "id": "18194cb0",
   "metadata": {},
   "source": [
    ">**There are 177 unique starting points**"
   ]
  },
  {
   "cell_type": "code",
   "execution_count": 21,
   "id": "337838bd",
   "metadata": {},
   "outputs": [
    {
     "data": {
      "text/plain": [
       "START*\n",
       "Cary                201\n",
       "Unknown Location    148\n",
       "Morrisville          85\n",
       "Whitebridge          68\n",
       "Islamabad            57\n",
       "Name: count, dtype: int64"
      ]
     },
     "execution_count": 21,
     "metadata": {},
     "output_type": "execute_result"
    }
   ],
   "source": [
    "# top 5 Start places\n",
    "\n",
    "df['START*'].value_counts(ascending=False)[:5]"
   ]
  },
  {
   "cell_type": "code",
   "execution_count": 22,
   "id": "f1ff7b89",
   "metadata": {},
   "outputs": [
    {
     "data": {
      "text/plain": [
       "<Axes: title={'center': 'Top 10 Pickup places'}, xlabel='Pickup Count', ylabel='Places'>"
      ]
     },
     "execution_count": 22,
     "metadata": {},
     "output_type": "execute_result"
    },
    {
     "data": {
      "image/png": "[encoded data removed]",
      "text/plain": [
       "<Figure size 640x480 with 1 Axes>"
      ]
     },
     "metadata": {},
     "output_type": "display_data"
    }
   ],
   "source": [
    "df['START*'].value_counts(ascending=False)[:10].plot(kind='barh',\n",
    "                                                     ylabel='Places', xlabel='Pickup Count', title='Top 10 Pickup places')"
   ]
  },
  {
   "cell_type": "markdown",
   "id": "32e247b6",
   "metadata": {},
   "source": [
    ">***Cary is the most popular Starting point for the user.***"
   ]
  },
  {
   "cell_type": "markdown",
   "id": "1231c1ac",
   "metadata": {},
   "source": [
    "### 2. STOP*"
   ]
  },
  {
   "cell_type": "code",
   "execution_count": 23,
   "id": "6ba03d29",
   "metadata": {},
   "outputs": [
    {
     "data": {
      "text/plain": [
       "188"
      ]
     },
     "execution_count": 23,
     "metadata": {},
     "output_type": "execute_result"
    }
   ],
   "source": [
    "len(df['STOP*'].unique())"
   ]
  },
  {
   "cell_type": "markdown",
   "id": "c2f44ceb",
   "metadata": {},
   "source": [
    ">**There are 188 unique Drop points (destination).**"
   ]
  },
  {
   "cell_type": "code",
   "execution_count": 24,
   "id": "b9dedfb6",
   "metadata": {},
   "outputs": [
    {
     "data": {
      "text/plain": [
       "<Axes: title={'center': 'Top 10 Drop places'}, xlabel='Drop point Count', ylabel='Places'>"
      ]
     },
     "execution_count": 24,
     "metadata": {},
     "output_type": "execute_result"
    },
    {
     "data": {
      "image/png": "[encoded data removed]",
      "text/plain": [
       "<Figure size 640x480 with 1 Axes>"
      ]
     },
     "metadata": {},
     "output_type": "display_data"
    }
   ],
   "source": [
    "df['STOP*'].value_counts(ascending=False)[:10].plot(kind='barh',\n",
    "                                                    ylabel='Places', xlabel='Drop point Count', title='Top 10 Drop places')"
   ]
  },
  {
   "cell_type": "markdown",
   "id": "965d82d5",
   "metadata": {},
   "source": [
    ">-***Cary is the most popular Stop place for the user.<br>***\n",
    ">-***Maybe users's home is in Cary (as mostly start & stop are from here)***"
   ]
  },
  {
   "cell_type": "code",
   "execution_count": 25,
   "id": "4785f040",
   "metadata": {},
   "outputs": [
    {
     "data": {
      "text/plain": [
       "START*\n",
       "Unknown Location    148\n",
       "Name: count, dtype: int64"
      ]
     },
     "execution_count": 25,
     "metadata": {},
     "output_type": "execute_result"
    }
   ],
   "source": [
    "# How many pick-up location is unknown\n",
    "\n",
    "df[df['START*'] == 'Unknown Location']['START*'].value_counts()"
   ]
  },
  {
   "cell_type": "code",
   "execution_count": 26,
   "id": "64cb2d39",
   "metadata": {},
   "outputs": [
    {
     "data": {
      "text/plain": [
       "STOP*\n",
       "Unknown Location    149\n",
       "Name: count, dtype: int64"
      ]
     },
     "execution_count": 26,
     "metadata": {},
     "output_type": "execute_result"
    }
   ],
   "source": [
    "# How many drop location is unknown\n",
    "\n",
    "df[df['STOP*'] == 'Unknown Location']['STOP*'].value_counts()"
   ]
  },
  {
   "cell_type": "markdown",
   "id": "fdbb1112",
   "metadata": {},
   "source": [
    "### 3. MILES*"
   ]
  },
  {
   "cell_type": "code",
   "execution_count": 27,
   "id": "b64d0eb0",
   "metadata": {},
   "outputs": [
    {
     "data": {
      "text/plain": [
       "<Axes: xlabel='MILES*', ylabel='Count'>"
      ]
     },
     "execution_count": 27,
     "metadata": {},
     "output_type": "execute_result"
    },
    {
     "data": {
      "image/png": "[encoded data removed]",
      "text/plain": [
       "<Figure size 640x480 with 1 Axes>"
      ]
     },
     "metadata": {},
     "output_type": "display_data"
    }
   ],
   "source": [
    "sns.histplot(df['MILES*'], kde=True)"
   ]
  },
  {
   "cell_type": "markdown",
   "id": "50c2496a",
   "metadata": {},
   "source": [
    ">**Doesn't give any good information.<br>**\n",
    ">*Expect for that fact that most of the trips is for less than 50 miles.*<br>\n",
    ">*Miles data is Rightly Skewed.*"
   ]
  },
  {
   "cell_type": "code",
   "execution_count": 28,
   "id": "766dc394",
   "metadata": {},
   "outputs": [
    {
     "data": {
      "text/html": [
       "<div>\n",
       "<style scoped>\n",
       "    .dataframe tbody tr th:only-of-type {\n",
       "        vertical-align: middle;\n",
       "    }\n",
       "\n",
       "    .dataframe tbody tr th {\n",
       "        vertical-align: top;\n",
       "    }\n",
       "\n",
       "    .dataframe thead th {\n",
       "        text-align: right;\n",
       "    }\n",
       "</style>\n",
       "<table border=\"1\" class=\"dataframe\">\n",
       "  <thead>\n",
       "    <tr style=\"text-align: right;\">\n",
       "      <th></th>\n",
       "      <th>count</th>\n",
       "      <th>mean</th>\n",
       "      <th>min</th>\n",
       "      <th>25%</th>\n",
       "      <th>50%</th>\n",
       "      <th>75%</th>\n",
       "      <th>max</th>\n",
       "      <th>std</th>\n",
       "    </tr>\n",
       "  </thead>\n",
       "  <tbody>\n",
       "    <tr>\n",
       "      <th>START_DATE*</th>\n",
       "      <td>1154</td>\n",
       "      <td>2016-07-17 00:07:01.611784960</td>\n",
       "      <td>2016-01-01 21:11:00</td>\n",
       "      <td>2016-03-31 20:23:30</td>\n",
       "      <td>2016-07-21 17:29:30</td>\n",
       "      <td>2016-10-27 21:16:15</td>\n",
       "      <td>2016-12-31 22:08:00</td>\n",
       "      <td>NaN</td>\n",
       "    </tr>\n",
       "    <tr>\n",
       "      <th>END_DATE*</th>\n",
       "      <td>1154</td>\n",
       "      <td>2016-07-17 00:30:16.117850880</td>\n",
       "      <td>2016-01-01 21:17:00</td>\n",
       "      <td>2016-03-31 20:52:00</td>\n",
       "      <td>2016-07-21 17:37:00</td>\n",
       "      <td>2016-10-27 21:34:30</td>\n",
       "      <td>2016-12-31 23:51:00</td>\n",
       "      <td>NaN</td>\n",
       "    </tr>\n",
       "    <tr>\n",
       "      <th>MILES*</th>\n",
       "      <td>1154.0</td>\n",
       "      <td>10.567418</td>\n",
       "      <td>0.5</td>\n",
       "      <td>2.9</td>\n",
       "      <td>6.0</td>\n",
       "      <td>10.4</td>\n",
       "      <td>310.3</td>\n",
       "      <td>21.588452</td>\n",
       "    </tr>\n",
       "  </tbody>\n",
       "</table>\n",
       "</div>"
      ],
      "text/plain": [
       "              count                           mean                  min  \\\n",
       "START_DATE*    1154  2016-07-17 00:07:01.611784960  2016-01-01 21:11:00   \n",
       "END_DATE*      1154  2016-07-17 00:30:16.117850880  2016-01-01 21:17:00   \n",
       "MILES*       1154.0                      10.567418                  0.5   \n",
       "\n",
       "                             25%                  50%                  75%  \\\n",
       "START_DATE*  2016-03-31 20:23:30  2016-07-21 17:29:30  2016-10-27 21:16:15   \n",
       "END_DATE*    2016-03-31 20:52:00  2016-07-21 17:37:00  2016-10-27 21:34:30   \n",
       "MILES*                       2.9                  6.0                 10.4   \n",
       "\n",
       "                             max        std  \n",
       "START_DATE*  2016-12-31 22:08:00        NaN  \n",
       "END_DATE*    2016-12-31 23:51:00        NaN  \n",
       "MILES*                     310.3  21.588452  "
      ]
     },
     "execution_count": 28,
     "metadata": {},
     "output_type": "execute_result"
    }
   ],
   "source": [
    "df.describe().T  # for getting result in Transpose form"
   ]
  },
  {
   "cell_type": "markdown",
   "id": "eb997b54",
   "metadata": {},
   "source": [
    "## Multivariate analysis"
   ]
  },
  {
   "cell_type": "code",
   "execution_count": 29,
   "id": "eea417c4",
   "metadata": {},
   "outputs": [
    {
     "data": {
      "text/html": [
       "<div>\n",
       "<style scoped>\n",
       "    .dataframe tbody tr th:only-of-type {\n",
       "        vertical-align: middle;\n",
       "    }\n",
       "\n",
       "    .dataframe tbody tr th {\n",
       "        vertical-align: top;\n",
       "    }\n",
       "\n",
       "    .dataframe thead th {\n",
       "        text-align: right;\n",
       "    }\n",
       "</style>\n",
       "<table border=\"1\" class=\"dataframe\">\n",
       "  <thead>\n",
       "    <tr style=\"text-align: right;\">\n",
       "      <th></th>\n",
       "      <th>START_DATE*</th>\n",
       "      <th>END_DATE*</th>\n",
       "      <th>CATEGORY*</th>\n",
       "      <th>START*</th>\n",
       "      <th>STOP*</th>\n",
       "      <th>MILES*</th>\n",
       "    </tr>\n",
       "  </thead>\n",
       "  <tbody>\n",
       "    <tr>\n",
       "      <th>0</th>\n",
       "      <td>2016-01-01 21:11:00</td>\n",
       "      <td>2016-01-01 21:17:00</td>\n",
       "      <td>Business</td>\n",
       "      <td>Fort Pierce</td>\n",
       "      <td>Fort Pierce</td>\n",
       "      <td>5.1</td>\n",
       "    </tr>\n",
       "    <tr>\n",
       "      <th>1</th>\n",
       "      <td>2016-01-02 01:25:00</td>\n",
       "      <td>2016-01-02 01:37:00</td>\n",
       "      <td>Business</td>\n",
       "      <td>Fort Pierce</td>\n",
       "      <td>Fort Pierce</td>\n",
       "      <td>5.0</td>\n",
       "    </tr>\n",
       "    <tr>\n",
       "      <th>2</th>\n",
       "      <td>2016-01-02 20:25:00</td>\n",
       "      <td>2016-01-02 20:38:00</td>\n",
       "      <td>Business</td>\n",
       "      <td>Fort Pierce</td>\n",
       "      <td>Fort Pierce</td>\n",
       "      <td>4.8</td>\n",
       "    </tr>\n",
       "    <tr>\n",
       "      <th>3</th>\n",
       "      <td>2016-01-05 17:31:00</td>\n",
       "      <td>2016-01-05 17:45:00</td>\n",
       "      <td>Business</td>\n",
       "      <td>Fort Pierce</td>\n",
       "      <td>Fort Pierce</td>\n",
       "      <td>4.7</td>\n",
       "    </tr>\n",
       "    <tr>\n",
       "      <th>4</th>\n",
       "      <td>2016-01-06 14:42:00</td>\n",
       "      <td>2016-01-06 15:49:00</td>\n",
       "      <td>Business</td>\n",
       "      <td>Fort Pierce</td>\n",
       "      <td>West Palm Beach</td>\n",
       "      <td>63.7</td>\n",
       "    </tr>\n",
       "  </tbody>\n",
       "</table>\n",
       "</div>"
      ],
      "text/plain": [
       "          START_DATE*           END_DATE* CATEGORY*       START*  \\\n",
       "0 2016-01-01 21:11:00 2016-01-01 21:17:00  Business  Fort Pierce   \n",
       "1 2016-01-02 01:25:00 2016-01-02 01:37:00  Business  Fort Pierce   \n",
       "2 2016-01-02 20:25:00 2016-01-02 20:38:00  Business  Fort Pierce   \n",
       "3 2016-01-05 17:31:00 2016-01-05 17:45:00  Business  Fort Pierce   \n",
       "4 2016-01-06 14:42:00 2016-01-06 15:49:00  Business  Fort Pierce   \n",
       "\n",
       "             STOP*  MILES*  \n",
       "0      Fort Pierce     5.1  \n",
       "1      Fort Pierce     5.0  \n",
       "2      Fort Pierce     4.8  \n",
       "3      Fort Pierce     4.7  \n",
       "4  West Palm Beach    63.7  "
      ]
     },
     "execution_count": 29,
     "metadata": {},
     "output_type": "execute_result"
    }
   ],
   "source": [
    "df.head()"
   ]
  },
  {
   "cell_type": "code",
   "execution_count": 30,
   "id": "b401bc4a",
   "metadata": {},
   "outputs": [
    {
     "name": "stdout",
     "output_type": "stream",
     "text": [
      "910    2.2\n",
      "Name: (Agnew, Agnew), dtype: float64\n",
      "906    4.3\n",
      "Name: (Agnew, Cory), dtype: float64\n",
      "908    2.2\n",
      "911    2.4\n",
      "Name: (Agnew, Renaissance), dtype: float64\n",
      "879    15.2\n",
      "Name: (Almond, Bryson City), dtype: float64\n",
      "646    1.0\n",
      "825    3.3\n",
      "Name: (Apex, Apex), dtype: float64\n",
      "58      5.5\n",
      "60      5.7\n",
      "80      5.7\n",
      "173     5.6\n",
      "410     7.2\n",
      "565     5.5\n",
      "616     4.6\n",
      "647     6.0\n",
      "826     5.3\n",
      "978     5.4\n",
      "1014    5.3\n",
      "1033    8.8\n",
      "1045    4.7\n",
      "Name: (Apex, Cary), dtype: float64\n",
      "855    2.2\n",
      "Name: (Apex, Eagle Rock), dtype: float64\n",
      "1001    9.0\n",
      "Name: (Apex, Holly Springs), dtype: float64\n",
      "469    17.0\n",
      "Name: (Arabi, Metairie), dtype: float64\n",
      "621    4.9\n",
      "Name: (Arlington, Washington), dtype: float64\n",
      "613    1.3\n",
      "Name: (Arlington Park at Amberly, Lexington Park at Amberly), dtype: float64\n",
      "881    195.9\n",
      "Name: (Asheville, Mebane), dtype: float64\n",
      "871    91.8\n",
      "Name: (Asheville, Topton), dtype: float64\n",
      "232    136.0\n",
      "Name: (Austin, Katy), dtype: float64\n",
      "547     8.3\n",
      "548     3.2\n",
      "551     4.5\n",
      "556    13.0\n",
      "557     4.4\n",
      "Name: (Banner Elk, Banner Elk), dtype: float64\n",
      "558    15.1\n",
      "Name: (Banner Elk, Boone), dtype: float64\n",
      "549    22.4\n",
      "Name: (Banner Elk, Elk Park), dtype: float64\n",
      "552    28.1\n",
      "Name: (Banner Elk, Newland), dtype: float64\n",
      "357    12.9\n",
      "Name: (Bellevue, Seattle), dtype: float64\n",
      "967    2.3\n",
      "Name: (Berkeley, El Cerrito), dtype: float64\n",
      "832    3.0\n",
      "839    4.6\n",
      "920    3.6\n",
      "948    1.3\n",
      "962    2.5\n",
      "Name: (Berkeley, Emeryville), dtype: float64\n",
      "936    45.9\n",
      "Name: (Berkeley, Menlo Park), dtype: float64\n",
      "960    44.6\n",
      "Name: (Berkeley, Mountain View), dtype: float64\n",
      "437     5.1\n",
      "964     5.1\n",
      "969    16.3\n",
      "Name: (Berkeley, Oakland), dtype: float64\n",
      "916    11.8\n",
      "918    12.2\n",
      "922    11.4\n",
      "930    12.6\n",
      "Name: (Berkeley, San Francisco), dtype: float64\n",
      "841    47.7\n",
      "Name: (Berkeley, San Jose), dtype: float64\n",
      "555    23.8\n",
      "Name: (Boone, Banner Elk), dtype: float64\n",
      "559    180.2\n",
      "Name: (Boone, Cary), dtype: float64\n",
      "256    9.6\n",
      "Name: (Briar Meadow, Midtown), dtype: float64\n",
      "878    6.6\n",
      "Name: (Bryson City, Almond), dtype: float64\n",
      "880    68.4\n",
      "Name: (Bryson City, Asheville), dtype: float64\n",
      "875    16.3\n",
      "876     6.5\n",
      "877     6.3\n",
      "Name: (Bryson City, Bryson City), dtype: float64\n",
      "333    4.8\n",
      "Name: (Burtrose, Whitebridge), dtype: float64\n",
      "466    4.5\n",
      "Name: (CBD, Bywater), dtype: float64\n",
      "444    1.9\n",
      "Name: (CBD, Lower Garden District), dtype: float64\n",
      "527    7.7\n",
      "Name: (CBD, Pontchartrain Beach), dtype: float64\n",
      "534    1.3\n",
      "Name: (CBD, St Thomas), dtype: float64\n",
      "358    14.4\n",
      "Name: (Capitol One, Mcvan), dtype: float64\n",
      "353    4.5\n",
      "Name: (Capitol One, University District), dtype: float64\n",
      "57       5.8\n",
      "59       5.7\n",
      "79       5.6\n",
      "172      3.8\n",
      "409      5.7\n",
      "564      7.2\n",
      "615      6.9\n",
      "824      5.6\n",
      "854     11.2\n",
      "977      5.4\n",
      "1000     5.1\n",
      "1013     5.1\n",
      "1032     5.1\n",
      "1044     4.4\n",
      "Name: (Cary, Apex), dtype: float64\n",
      "7        0.8\n",
      "30       4.8\n",
      "37       1.6\n",
      "38       2.4\n",
      "39       1.0\n",
      "43       1.4\n",
      "44       0.5\n",
      "45       1.8\n",
      "53       4.6\n",
      "54       5.2\n",
      "65       6.0\n",
      "66       1.6\n",
      "69       1.6\n",
      "70       1.1\n",
      "71       1.6\n",
      "73       7.7\n",
      "975      1.5\n",
      "976      1.8\n",
      "979     39.2\n",
      "980      6.4\n",
      "981      2.7\n",
      "982     18.5\n",
      "983      2.5\n",
      "984      2.1\n",
      "988      5.5\n",
      "989      4.1\n",
      "990     12.7\n",
      "993      5.9\n",
      "994      1.9\n",
      "995      3.3\n",
      "996      1.3\n",
      "999      1.4\n",
      "1003     2.5\n",
      "1009     5.5\n",
      "1010     5.5\n",
      "1022     4.1\n",
      "1023     3.8\n",
      "1024     6.6\n",
      "1025     4.0\n",
      "1026     7.0\n",
      "1027     6.9\n",
      "1028     3.4\n",
      "1029     3.4\n",
      "1030     2.0\n",
      "1031     2.0\n",
      "1034     5.6\n",
      "1035    18.9\n",
      "1042     2.1\n",
      "1043     3.1\n",
      "1048     4.2\n",
      "1049     4.1\n",
      "1050     3.4\n",
      "1051     3.3\n",
      "Name: (Cary, Cary), dtype: float64\n",
      "61    19.4\n",
      "Name: (Cary, Chapel Hill), dtype: float64\n",
      "28     10.4\n",
      "55     10.4\n",
      "74     10.4\n",
      "95      8.5\n",
      "164    10.6\n",
      "183     9.9\n",
      "185    10.4\n",
      "304    10.5\n",
      "325    10.4\n",
      "337     9.9\n",
      "339    14.2\n",
      "394    10.4\n",
      "405     9.9\n",
      "411    10.4\n",
      "413    10.4\n",
      "424    10.4\n",
      "429    10.4\n",
      "490    10.4\n",
      "497    10.4\n",
      "499     9.9\n",
      "503    10.5\n",
      "505    10.1\n",
      "509     9.9\n",
      "513    11.8\n",
      "517     9.9\n",
      "520     9.9\n",
      "584     8.0\n",
      "593    10.4\n",
      "609    14.0\n",
      "644    12.9\n",
      "816    10.5\n",
      "851    16.4\n",
      "867    10.4\n",
      "887    16.5\n",
      "973    10.3\n",
      "997    10.3\n",
      "Name: (Cary, Durham), dtype: float64\n",
      "1036    15.6\n",
      "Name: (Cary, Fuquay-Varina), dtype: float64\n",
      "314    15.3\n",
      "Name: (Cary, Holly Springs), dtype: float64\n",
      "268    144.0\n",
      "Name: (Cary, Latta), dtype: float64\n",
      "8        8.3\n",
      "67       5.2\n",
      "81       6.1\n",
      "89       6.1\n",
      "99       8.4\n",
      "        ... \n",
      "1038     3.0\n",
      "1040     3.0\n",
      "1046     3.0\n",
      "1052     3.0\n",
      "1054    10.6\n",
      "Name: (Cary, Morrisville), Length: 67, dtype: float64\n",
      "34      17.1\n",
      "46      18.7\n",
      "50      19.0\n",
      "76      11.4\n",
      "91      17.3\n",
      "181      7.6\n",
      "187     15.7\n",
      "200     12.4\n",
      "307     19.1\n",
      "310      8.9\n",
      "316     11.9\n",
      "323     13.6\n",
      "334     12.4\n",
      "389     14.9\n",
      "455      6.0\n",
      "457     19.3\n",
      "461      8.6\n",
      "501     13.3\n",
      "642     14.9\n",
      "822     20.6\n",
      "845     17.2\n",
      "847     28.1\n",
      "1006     8.5\n",
      "Name: (Cary, Raleigh), dtype: float64\n",
      "985    6.7\n",
      "Name: (Cary, Unknown Location), dtype: float64\n",
      "1017    6.6\n",
      "Name: (Cary, Wake Co.), dtype: float64\n",
      "651    31.7\n",
      "Name: (Cary, Wake Forest), dtype: float64\n",
      "869    107.0\n",
      "Name: (Cary, Winston Salem), dtype: float64\n",
      "929    1.1\n",
      "950    2.3\n",
      "951    2.6\n",
      "Name: (Central, Central), dtype: float64\n",
      "940    2.9\n",
      "Name: (Central, College Avenue), dtype: float64\n",
      "942    2.3\n",
      "Name: (Central, South), dtype: float64\n",
      "952    1.9\n",
      "958    1.9\n",
      "Name: (Central, Southside), dtype: float64\n",
      "945    0.6\n",
      "Name: (Central, West Berkeley), dtype: float64\n",
      "468    1.1\n",
      "Name: (Chalmette, Arabi), dtype: float64\n",
      "62    23.3\n",
      "Name: (Chapel Hill, Cary), dtype: float64\n",
      "359    17.0\n",
      "Name: (Chapel Hill, Morrisville), dtype: float64\n",
      "330    1.9\n",
      "Name: (Chessington, Chessington), dtype: float64\n",
      "573    4.8\n",
      "Name: (Chessington, Whitebridge), dtype: float64\n",
      "941    2.6\n",
      "Name: (College Avenue, Central), dtype: float64\n",
      "110    2.6\n",
      "111    4.5\n",
      "112    1.7\n",
      "113    1.8\n",
      "114    6.0\n",
      "118    1.7\n",
      "Name: (Colombo, Colombo), dtype: float64\n",
      "119    21.4\n",
      "Name: (Colombo, Katunayaka), dtype: float64\n",
      "115    1.1\n",
      "Name: (Colombo, Nugegoda), dtype: float64\n",
      "629    1.5\n",
      "Name: (Columbia Heights, Kalorama Triangle), dtype: float64\n",
      "212    0.8\n",
      "Name: (Congress Ave District, Downtown), dtype: float64\n",
      "627    1.3\n",
      "Name: (Connecticut Avenue, Kalorama Triangle), dtype: float64\n",
      "229    2.0\n",
      "Name: (Convention Center District, West University), dtype: float64\n",
      "907    3.9\n",
      "Name: (Cory, Agnew), dtype: float64\n",
      "271    6.7\n",
      "Name: (Couples Glen, Isles of Buena Vista), dtype: float64\n",
      "280    27.2\n",
      "Name: (Couples Glen, Vista East), dtype: float64\n",
      "479    2.5\n",
      "480    8.6\n",
      "481    5.2\n",
      "482    7.6\n",
      "483    1.8\n",
      "Name: (Covington, Covington), dtype: float64\n",
      "484    4.7\n",
      "Name: (Covington, Mandeville), dtype: float64\n",
      "223    12.5\n",
      "Name: (Coxville, The Drag), dtype: float64\n",
      "296    80.5\n",
      "Name: (Daytona Beach, Jacksonville), dtype: float64\n",
      "442    9.3\n",
      "Name: (Downtown, Bay Farm Island), dtype: float64\n",
      "944    1.4\n",
      "Name: (Downtown, Central), dtype: float64\n",
      "23    11.2\n",
      "Name: (Downtown, Gulfton), dtype: float64\n",
      "258    0.9\n",
      "Name: (Downtown, Midtown), dtype: float64\n",
      "213    1.2\n",
      "Name: (Downtown, Red River District), dtype: float64\n",
      "924    6.2\n",
      "Name: (Downtown, Sunnyside), dtype: float64\n",
      "227    2.8\n",
      "231    1.7\n",
      "Name: (Downtown, The Drag), dtype: float64\n",
      "914    1.8\n",
      "Name: (Downtown, West Berkeley), dtype: float64\n",
      "645    15.3\n",
      "Name: (Durham, Apex), dtype: float64\n",
      "29     10.4\n",
      "56     10.1\n",
      "75     10.4\n",
      "165     9.9\n",
      "184     9.9\n",
      "186    10.9\n",
      "305     8.7\n",
      "326    10.0\n",
      "338    10.0\n",
      "340    18.2\n",
      "395     9.9\n",
      "406     9.9\n",
      "412     9.9\n",
      "414     9.9\n",
      "425     9.9\n",
      "430     9.9\n",
      "491     9.9\n",
      "498     9.9\n",
      "500     9.9\n",
      "504     9.9\n",
      "506     9.9\n",
      "510     9.9\n",
      "515     9.9\n",
      "521     9.9\n",
      "585     9.9\n",
      "594     9.9\n",
      "610    13.3\n",
      "868     9.9\n",
      "888    12.8\n",
      "974    10.5\n",
      "998    11.1\n",
      "Name: (Durham, Cary), dtype: float64\n",
      "96      2.6\n",
      "518     8.6\n",
      "817     8.1\n",
      "852    15.4\n",
      "Name: (Durham, Morrisville), dtype: float64\n",
      "26    3.9\n",
      "Name: (Eagan Park, Jamestown Court), dtype: float64\n",
      "856    3.6\n",
      "Name: (Eagle Rock, Cary), dtype: float64\n",
      "208    12.8\n",
      "Name: (East Austin, West University), dtype: float64\n",
      "102    2.7\n",
      "Name: (East Elmhurst, Jackson Heights), dtype: float64\n",
      "104    8.1\n",
      "Name: (East Elmhurst, New York), dtype: float64\n",
      "13    6.4\n",
      "Name: (East Harlem, NoMad), dtype: float64\n",
      "92    5.7\n",
      "Name: (Eastgate, Walnut Terrace), dtype: float64\n",
      "578    2.3\n",
      "Name: (Edgehill Farms, Burtrose), dtype: float64\n",
      "575    1.4\n",
      "Name: (Edgehill Farms, Preston), dtype: float64\n",
      "78     3.2\n",
      "84     2.7\n",
      "633    2.7\n",
      "638    2.7\n",
      "650    2.8\n",
      "828    3.3\n",
      "Name: (Edgehill Farms, Whitebridge), dtype: float64\n",
      "968    3.1\n",
      "Name: (El Cerrito, Berkeley), dtype: float64\n",
      "550    12.2\n",
      "Name: (Elk Park, Banner Elk), dtype: float64\n",
      "11    7.5\n",
      "Name: (Elmhurst, New York), dtype: float64\n",
      "436    3.9\n",
      "831    3.0\n",
      "840    3.1\n",
      "921    3.0\n",
      "949    3.7\n",
      "963    3.7\n",
      "Name: (Emeryville, Berkeley), dtype: float64\n",
      "441     5.1\n",
      "833     3.8\n",
      "843    13.2\n",
      "Name: (Emeryville, Oakland), dtype: float64\n",
      "439    9.8\n",
      "Name: (Emeryville, San Francisco), dtype: float64\n",
      "47    3.4\n",
      "Name: (Fairmont, Meredith Townes), dtype: float64\n",
      "637    4.0\n",
      "Name: (Farmington Woods, Edgehill Farms), dtype: float64\n",
      "31    4.7\n",
      "Name: (Farmington Woods, Whitebridge), dtype: float64\n",
      "189    0.8\n",
      "Name: (Fayetteville Street, Depot Historic District), dtype: float64\n",
      "201    5.9\n",
      "Name: (Fayetteville Street, Meredith Townes), dtype: float64\n",
      "35    15.1\n",
      "Name: (Fayetteville Street, Umstead), dtype: float64\n",
      "422    4.8\n",
      "Name: (Financial District, Kips Bay), dtype: float64\n",
      "14    1.6\n",
      "Name: (Flatiron District, Midtown), dtype: float64\n",
      "299    159.3\n",
      "Name: (Florence, Cary), dtype: float64\n",
      "0    5.1\n",
      "1    5.0\n",
      "2    4.8\n",
      "3    4.7\n",
      "Name: (Fort Pierce, Fort Pierce), dtype: float64\n",
      "4    63.7\n",
      "Name: (Fort Pierce, West Palm Beach), dtype: float64\n",
      "1037    15.6\n",
      "Name: (Fuquay-Varina, Cary), dtype: float64\n",
      "251    57.0\n",
      "Name: (Galveston, Houston), dtype: float64\n",
      "247    3.1\n",
      "Name: (Galveston, Port Bolivar), dtype: float64\n",
      "1154    48.2\n",
      "Name: (Gampaha, Ilukwatta), dtype: float64\n",
      "220    6.2\n",
      "Name: (Georgian Acres, The Drag), dtype: float64\n",
      "24    11.8\n",
      "Name: (Gulfton, Downtown), dtype: float64\n",
      "873    75.7\n",
      "Name: (Hayesville, Topton), dtype: float64\n",
      "583    9.1\n",
      "Name: (Hazelwood, Lexington Park at Amberly), dtype: float64\n",
      "567    0.9\n",
      "Name: (Hazelwood, Weston), dtype: float64\n",
      "41     2.3\n",
      "168    2.0\n",
      "175    6.6\n",
      "408    2.4\n",
      "899    2.4\n",
      "Name: (Hazelwood, Whitebridge), dtype: float64\n",
      "21    2.0\n",
      "Name: (Hell's Kitchen, Midtown), dtype: float64\n",
      "649    4.4\n",
      "Name: (Heritage Pines, Edgehill Farms), dtype: float64\n",
      "159    3.2\n",
      "Name: (Heritage Pines, Whitebridge), dtype: float64\n",
      "315     13.7\n",
      "1002    13.3\n",
      "Name: (Holly Springs, Cary), dtype: float64\n",
      "246    36.5\n",
      "Name: (Houston, Galveston), dtype: float64\n",
      "25     21.9\n",
      "235     4.9\n",
      "236    12.6\n",
      "Name: (Houston, Houston), dtype: float64\n",
      "244    12.0\n",
      "Name: (Houston, Sugar Land), dtype: float64\n",
      "20    2.4\n",
      "Name: (Hudson Square, Hell's Kitchen), dtype: float64\n",
      "18    4.0\n",
      "Name: (Hudson Square, Lower Manhattan), dtype: float64\n",
      "864    12.1\n",
      "Name: (Huntington Woods, Huntington Woods), dtype: float64\n",
      "399    1.7\n",
      "865    3.9\n",
      "Name: (Huntington Woods, Weston), dtype: float64\n",
      "926    5.5\n",
      "Name: (Ingleside, Potrero Flats), dtype: float64\n",
      "129      1.5\n",
      "130      1.0\n",
      "133      4.2\n",
      "137      3.0\n",
      "138      1.5\n",
      "146      4.6\n",
      "664      1.2\n",
      "681      3.2\n",
      "686      1.4\n",
      "691      1.5\n",
      "730      5.3\n",
      "733      4.3\n",
      "734      2.5\n",
      "739      2.6\n",
      "742      4.4\n",
      "779     37.7\n",
      "782      2.8\n",
      "783      1.6\n",
      "801      1.7\n",
      "806      1.0\n",
      "807      0.7\n",
      "808      2.3\n",
      "1076     1.8\n",
      "1077     1.4\n",
      "1085     2.1\n",
      "Name: (Islamabad, Islamabad), dtype: float64\n",
      "151    8.1\n",
      "Name: (Islamabad, Noorpur Shahan), dtype: float64\n",
      "139    18.4\n",
      "678     6.5\n",
      "Name: (Islamabad, R?walpindi), dtype: float64\n",
      "1061    5.9\n",
      "Name: (Islamabad, Rawalpindi), dtype: float64\n",
      "123      6.0\n",
      "125     10.0\n",
      "131      7.3\n",
      "134     13.6\n",
      "147      8.8\n",
      "665      5.7\n",
      "671      7.3\n",
      "682     12.5\n",
      "687     20.2\n",
      "689      6.3\n",
      "692     10.9\n",
      "702      5.0\n",
      "731     12.1\n",
      "735      5.7\n",
      "737      4.0\n",
      "743      5.3\n",
      "746     10.6\n",
      "765      5.7\n",
      "768     16.5\n",
      "777     20.5\n",
      "780     16.7\n",
      "784     12.7\n",
      "802      9.5\n",
      "809     10.9\n",
      "1069     2.2\n",
      "1078    10.3\n",
      "1081     3.5\n",
      "1086     7.2\n",
      "Name: (Islamabad, Unknown Location), dtype: float64\n",
      "103    1.8\n",
      "Name: (Jackson Heights, East Elmhurst), dtype: float64\n",
      "270    201.0\n",
      "Name: (Jacksonville, Kissimmee), dtype: float64\n",
      "297    174.2\n",
      "Name: (Jacksonville, Ridgeland), dtype: float64\n",
      "9      16.5\n",
      "416    22.3\n",
      "Name: (Jamaica, New York), dtype: float64\n",
      "488    1.0\n",
      "Name: (Jamestown Court, Jamestown Court), dtype: float64\n",
      "623    1.0\n",
      "625    1.1\n",
      "Name: (K Street, Kalorama Triangle), dtype: float64\n",
      "628    1.8\n",
      "Name: (Kalorama Triangle, Columbia Heights), dtype: float64\n",
      "626    1.5\n",
      "Name: (Kalorama Triangle, Downtown), dtype: float64\n",
      "622    1.0\n",
      "Name: (Kalorama Triangle, K Street), dtype: float64\n",
      "1119    4.9\n",
      "1120    5.0\n",
      "1121    0.6\n",
      "1124    5.5\n",
      "1127    2.0\n",
      "1130    3.8\n",
      "1131    5.1\n",
      "1132    3.8\n",
      "1135    1.4\n",
      "1136    1.1\n",
      "1137    4.1\n",
      "1138    6.1\n",
      "1139    1.3\n",
      "1142    7.2\n",
      "1145    2.8\n",
      "1146    2.9\n",
      "1147    4.6\n",
      "1148    4.6\n",
      "1149    0.8\n",
      "1150    0.7\n",
      "Name: (Kar?chi, Kar?chi), dtype: float64\n",
      "1122     3.1\n",
      "1125    10.3\n",
      "1128     8.5\n",
      "1133    11.6\n",
      "1140     3.0\n",
      "1143     6.4\n",
      "1151     3.9\n",
      "Name: (Kar?chi, Unknown Location), dtype: float64\n",
      "770    2.9\n",
      "798    3.6\n",
      "Name: (Karachi, Karachi), dtype: float64\n",
      "771    8.2\n",
      "799    8.0\n",
      "Name: (Karachi, Unknown Location), dtype: float64\n",
      "120    0.5\n",
      "Name: (Katunayaka, Katunayaka), dtype: float64\n",
      "108    43.7\n",
      "Name: (Katunayaka, Unknown Location), dtype: float64\n",
      "1153    6.4\n",
      "Name: (Katunayake, Gampaha), dtype: float64\n",
      "233    30.2\n",
      "Name: (Katy, Houston), dtype: float64\n",
      "476    2.2\n",
      "539    1.4\n",
      "Name: (Kenner, Kenner), dtype: float64\n",
      "532    4.9\n",
      "Name: (Kenner, Metairie), dtype: float64\n",
      "443    12.4\n",
      "450    15.0\n",
      "452    13.6\n",
      "465    12.8\n",
      "477    13.0\n",
      "526    12.8\n",
      "530    13.2\n",
      "537    13.4\n",
      "Name: (Kenner, New Orleans), dtype: float64\n",
      "385    1.7\n",
      "Name: (Kilarney Woods, Kildaire Farms), dtype: float64\n",
      "386    4.7\n",
      "Name: (Kilarney Woods, Whitebridge), dtype: float64\n",
      "295    77.3\n",
      "Name: (Kissimmee, Daytona Beach), dtype: float64\n",
      "289    11.0\n",
      "292     0.7\n",
      "293     5.5\n",
      "294     5.1\n",
      "Name: (Kissimmee, Kissimmee), dtype: float64\n",
      "272     8.8\n",
      "276     6.1\n",
      "279     3.6\n",
      "282    13.6\n",
      "287    16.1\n",
      "290    15.5\n",
      "Name: (Kissimmee, Orlando), dtype: float64\n",
      "972    6.1\n",
      "Name: (Krendle Woods, Whitebridge), dtype: float64\n",
      "716     7.4\n",
      "717     1.5\n",
      "720     3.4\n",
      "721     3.8\n",
      "724     7.0\n",
      "725     0.9\n",
      "774     9.8\n",
      "792     2.6\n",
      "795     2.4\n",
      "796     3.1\n",
      "797     6.1\n",
      "1096    2.1\n",
      "1097    2.1\n",
      "1098    3.0\n",
      "1105    5.3\n",
      "1106    1.6\n",
      "1107    3.6\n",
      "1108    1.7\n",
      "1109    2.9\n",
      "1110    0.6\n",
      "1111    0.6\n",
      "1112    2.3\n",
      "1113    2.3\n",
      "1114    3.2\n",
      "1115    6.2\n",
      "1116    7.7\n",
      "1117    3.8\n",
      "Name: (Lahore, Lahore), dtype: float64\n",
      "712      7.3\n",
      "718      7.9\n",
      "722      5.9\n",
      "726     86.6\n",
      "775      7.3\n",
      "793      5.8\n",
      "1099     6.2\n",
      "1103     6.3\n",
      "1118     7.9\n",
      "Name: (Lahore, Unknown Location), dtype: float64\n",
      "273    1.2\n",
      "274    2.1\n",
      "Name: (Lake Reams, Lake Reams), dtype: float64\n",
      "33    7.6\n",
      "Name: (Lake Wellingborough, Whitebridge), dtype: float64\n",
      "446    5.5\n",
      "Name: (Lakeview, Storyville), dtype: float64\n",
      "269    310.3\n",
      "Name: (Latta, Jacksonville), dtype: float64\n",
      "614    1.9\n",
      "Name: (Lexington Park at Amberly, Westpark Place), dtype: float64\n",
      "571    8.7\n",
      "Name: (Lexington Park at Amberly, Whitebridge), dtype: float64\n",
      "107    13.9\n",
      "Name: (Long Island City, Jamaica), dtype: float64\n",
      "445    6.4\n",
      "Name: (Lower Garden District, Lakeview), dtype: float64\n",
      "19    1.8\n",
      "Name: (Lower Manhattan, Hudson Square), dtype: float64\n",
      "485    2.8\n",
      "Name: (Mandeville, Mandeville), dtype: float64\n",
      "486    30.0\n",
      "Name: (Mandeville, Metairie), dtype: float64\n",
      "473    1.5\n",
      "Name: (Marigny, Storyville), dtype: float64\n",
      "352    14.5\n",
      "Name: (Mcvan, Capitol One), dtype: float64\n",
      "882    45.2\n",
      "Name: (Mebane, Cary), dtype: float64\n",
      "418    0.7\n",
      "Name: (Medical Centre, Tudor City), dtype: float64\n",
      "939    36.6\n",
      "Name: (Menlo Park, Berkeley), dtype: float64\n",
      "366    7.9\n",
      "Name: (Menlo Park, Newark), dtype: float64\n",
      "937    4.0\n",
      "Name: (Menlo Park, Palo Alto), dtype: float64\n",
      "311    7.5\n",
      "Name: (Meredith, Cedar Hill), dtype: float64\n",
      "317    1.4\n",
      "Name: (Meredith Townes, Harden Place), dtype: float64\n",
      "51     14.7\n",
      "202     9.4\n",
      "Name: (Meredith Townes, Leesville Hollow), dtype: float64\n",
      "449    2.7\n",
      "487    4.4\n",
      "Name: (Metairie, Kenner), dtype: float64\n",
      "471    15.5\n",
      "533     8.5\n",
      "Name: (Metairie, New Orleans), dtype: float64\n",
      "234    15.5\n",
      "Name: (Midtown, Alief), dtype: float64\n",
      "257    1.0\n",
      "Name: (Midtown, Downtown), dtype: float64\n",
      "12    6.2\n",
      "Name: (Midtown, East Harlem), dtype: float64\n",
      "261    23.0\n",
      "Name: (Midtown, Greater Greenspoint), dtype: float64\n",
      "17    1.9\n",
      "Name: (Midtown, Hudson Square), dtype: float64\n",
      "238    1.1\n",
      "239    1.1\n",
      "Name: (Midtown, Midtown), dtype: float64\n",
      "15    1.7\n",
      "Name: (Midtown, Midtown East), dtype: float64\n",
      "105    2.0\n",
      "Name: (Midtown, Midtown West), dtype: float64\n",
      "240    13.2\n",
      "243     9.4\n",
      "254    10.4\n",
      "259     8.8\n",
      "Name: (Midtown, Sharpstown), dtype: float64\n",
      "252    5.9\n",
      "Name: (Midtown, Washington Avenue), dtype: float64\n",
      "16    1.9\n",
      "Name: (Midtown East, Midtown), dtype: float64\n",
      "546    195.3\n",
      "Name: (Morrisville, Banner Elk), dtype: float64\n",
      "27      8.0\n",
      "68      9.7\n",
      "82      6.1\n",
      "90      6.1\n",
      "94      6.1\n",
      "       ... \n",
      "1021    3.4\n",
      "1039    3.1\n",
      "1041    4.8\n",
      "1047    3.0\n",
      "1053    3.1\n",
      "Name: (Morrisville, Cary), Length: 75, dtype: float64\n",
      "542     2.2\n",
      "545    11.8\n",
      "814     6.2\n",
      "863     5.9\n",
      "896     5.0\n",
      "Name: (Morrisville, Morrisville), dtype: float64\n",
      "97     17.0\n",
      "375     7.6\n",
      "604    14.7\n",
      "884    10.3\n",
      "Name: (Morrisville, Raleigh), dtype: float64\n",
      "961    43.6\n",
      "Name: (Mountain View, Berkeley), dtype: float64\n",
      "923    0.9\n",
      "Name: (NOMA, Downtown), dtype: float64\n",
      "467    11.8\n",
      "Name: (New Orleans, Chalmette), dtype: float64\n",
      "478    46.9\n",
      "Name: (New Orleans, Covington), dtype: float64\n",
      "451    12.9\n",
      "453    12.2\n",
      "474    12.6\n",
      "531    13.0\n",
      "536    13.6\n",
      "538    12.3\n",
      "Name: (New Orleans, Kenner), dtype: float64\n",
      "448    14.5\n",
      "529    12.5\n",
      "Name: (New Orleans, Metairie), dtype: float64\n",
      "423    16.3\n",
      "Name: (New York, Jamaica), dtype: float64\n",
      "106    13.0\n",
      "Name: (New York, Long Island City), dtype: float64\n",
      "10    10.8\n",
      "Name: (New York, Queens), dtype: float64\n",
      "22    15.1\n",
      "Name: (New York, Queens County), dtype: float64\n",
      "365    9.3\n",
      "Name: (Newark, Menlo Park), dtype: float64\n",
      "367    25.6\n",
      "Name: (Newark, San Francisco), dtype: float64\n",
      "554    41.9\n",
      "Name: (Newland, Boone), dtype: float64\n",
      "553    3.8\n",
      "Name: (Newland, Newland), dtype: float64\n",
      "677    3.3\n",
      "701    4.4\n",
      "729    6.2\n",
      "Name: (Noorpur Shahan, Islamabad), dtype: float64\n",
      "152    2.2\n",
      "699    7.5\n",
      "Name: (Noorpur Shahan, Unknown Location), dtype: float64\n",
      "222    7.2\n",
      "Name: (North Austin, Coxville), dtype: float64\n",
      "838    2.2\n",
      "Name: (North Berkeley Hills, Southside), dtype: float64\n",
      "562    3.3\n",
      "Name: (Northwoods, Preston), dtype: float64\n",
      "86    3.0\n",
      "Name: (Northwoods, Tanglewood), dtype: float64\n",
      "63    3.9\n",
      "Name: (Northwoods, Whitebridge), dtype: float64\n",
      "116    3.6\n",
      "Name: (Nugegoda, Unknown Location), dtype: float64\n",
      "928    2.6\n",
      "934    6.0\n",
      "Name: (Oakland, Berkeley), dtype: float64\n",
      "435    13.2\n",
      "830    13.0\n",
      "Name: (Oakland, Emeryville), dtype: float64\n",
      "834    9.5\n",
      "965    9.7\n",
      "Name: (Oakland, San Francisco), dtype: float64\n",
      "438    5.2\n",
      "Name: (Oakland, Unknown Location), dtype: float64\n",
      "377    11.2\n",
      "Name: (Old City, Hog Island), dtype: float64\n",
      "376    2.9\n",
      "Name: (Old City, Parkway Museums), dtype: float64\n",
      "275     6.6\n",
      "278     7.3\n",
      "281    25.7\n",
      "285    13.8\n",
      "286    28.8\n",
      "288    16.4\n",
      "291    20.3\n",
      "Name: (Orlando, Kissimmee), dtype: float64\n",
      "277    6.9\n",
      "Name: (Orlando, Orlando), dtype: float64\n",
      "938    2.5\n",
      "Name: (Palo Alto, Menlo Park), dtype: float64\n",
      "363    9.8\n",
      "Name: (Palo Alto, Sunnyvale), dtype: float64\n",
      "347    3.1\n",
      "433    2.8\n",
      "598    1.7\n",
      "859    8.7\n",
      "861    2.1\n",
      "Name: (Parkway, Whitebridge), dtype: float64\n",
      "514    1.2\n",
      "Name: (Parkwood, Parkwood), dtype: float64\n",
      "528    7.0\n",
      "Name: (Pontchartrain Beach, CBD), dtype: float64\n",
      "470    1.7\n",
      "475    4.8\n",
      "Name: (Pontchartrain Shores, Pontchartrain Shores), dtype: float64\n",
      "250    7.5\n",
      "Name: (Port Bolivar, Galveston), dtype: float64\n",
      "248    2.1\n",
      "249    1.2\n",
      "Name: (Port Bolivar, Port Bolivar), dtype: float64\n",
      "372    2.7\n",
      "Name: (Preston, Westpark Place), dtype: float64\n",
      "88     1.5\n",
      "157    1.7\n",
      "265    1.6\n",
      "563    4.7\n",
      "576    1.4\n",
      "Name: (Preston, Whitebridge), dtype: float64\n",
      "670    6.4\n",
      "Name: (R?walpindi, Islamabad), dtype: float64\n",
      "140    23.1\n",
      "696     4.1\n",
      "Name: (R?walpindi, R?walpindi), dtype: float64\n",
      "141     16.5\n",
      "656     15.6\n",
      "679      2.0\n",
      "697     18.7\n",
      "763     18.2\n",
      "788    112.6\n",
      "804     18.4\n",
      "811     12.4\n",
      "Name: (R?walpindi, Unknown Location), dtype: float64\n",
      "36     40.2\n",
      "49     12.9\n",
      "52     15.7\n",
      "77      9.0\n",
      "98     18.0\n",
      "182    17.3\n",
      "190    13.5\n",
      "203    11.9\n",
      "308    18.6\n",
      "318    15.2\n",
      "324    22.5\n",
      "335    32.8\n",
      "390    14.0\n",
      "456     5.9\n",
      "458    16.6\n",
      "502    11.3\n",
      "643    17.4\n",
      "823    17.6\n",
      "846    14.0\n",
      "848    28.2\n",
      "885    13.1\n",
      "Name: (Raleigh, Cary), dtype: float64\n",
      "93      13.5\n",
      "312     15.9\n",
      "462      9.0\n",
      "605     14.6\n",
      "1007     6.7\n",
      "Name: (Raleigh, Morrisville), dtype: float64\n",
      "48     2.7\n",
      "188    4.9\n",
      "Name: (Raleigh, Raleigh), dtype: float64\n",
      "1068    7.2\n",
      "Name: (Rawalpindi, Islamabad), dtype: float64\n",
      "1072    3.3\n",
      "Name: (Rawalpindi, Rawalpindi), dtype: float64\n",
      "1062      0.7\n",
      "1073     19.4\n",
      "1088    103.0\n",
      "Name: (Rawalpindi, Unknown Location), dtype: float64\n",
      "214    1.0\n",
      "Name: (Red River District, Downtown), dtype: float64\n",
      "356    2.9\n",
      "Name: (Redmond, Bellevue), dtype: float64\n",
      "909    2.8\n",
      "912    2.8\n",
      "Name: (Renaissance, Agnew), dtype: float64\n",
      "298    144.0\n",
      "Name: (Ridgeland, Florence), dtype: float64\n",
      "419    2.5\n",
      "Name: (Rose Hill, Soho), dtype: float64\n",
      "835    1.7\n",
      "Name: (SOMISSPO, French Quarter), dtype: float64\n",
      "932    1.1\n",
      "Name: (SOMISSPO, Tenderloin), dtype: float64\n",
      "836    10.8\n",
      "917    13.2\n",
      "919    11.3\n",
      "966    11.8\n",
      "Name: (San Francisco, Berkeley), dtype: float64\n",
      "440    11.6\n",
      "Name: (San Francisco, Emeryville), dtype: float64\n",
      "927    12.7\n",
      "933     9.9\n",
      "Name: (San Francisco, Oakland), dtype: float64\n",
      "362    20.5\n",
      "Name: (San Francisco, Palo Alto), dtype: float64\n",
      "842    44.6\n",
      "Name: (San Jose, Emeryville), dtype: float64\n",
      "905    3.8\n",
      "Name: (San Jose, Santa Clara), dtype: float64\n",
      "283    6.2\n",
      "Name: (Sand Lake Commons, Sky Lake), dtype: float64\n",
      "913    43.9\n",
      "Name: (Santa Clara, Berkeley), dtype: float64\n",
      "384    1.2\n",
      "Name: (Savon Height, Kilarney Woods), dtype: float64\n",
      "858    4.9\n",
      "Name: (Savon Height, Parkway), dtype: float64\n",
      "382    3.6\n",
      "886    9.6\n",
      "Name: (Savon Height, Whitebridge), dtype: float64\n",
      "417    3.3\n",
      "Name: (Seaport, Gramercy-Flatiron), dtype: float64\n",
      "355    14.2\n",
      "Name: (Seattle, Redmond), dtype: float64\n",
      "255    1.2\n",
      "Name: (Sharpstown, Briar Meadow), dtype: float64\n",
      "237    10.4\n",
      "242     9.2\n",
      "260    25.6\n",
      "Name: (Sharpstown, Midtown), dtype: float64\n",
      "241    1.0\n",
      "Name: (Sharpstown, Sharpstown), dtype: float64\n",
      "284    6.0\n",
      "Name: (Sky Lake, Sand Lake Commons), dtype: float64\n",
      "420    0.5\n",
      "Name: (Soho, Tribeca), dtype: float64\n",
      "943    6.4\n",
      "Name: (South, Downtown), dtype: float64\n",
      "947    0.8\n",
      "Name: (South, Southwest Berkeley), dtype: float64\n",
      "956    0.9\n",
      "Name: (South Berkeley, Southside), dtype: float64\n",
      "210    1.6\n",
      "Name: (South Congress, Arts District), dtype: float64\n",
      "219    8.4\n",
      "Name: (South Congress, North Austin), dtype: float64\n",
      "215    2.1\n",
      "217    1.9\n",
      "225    2.7\n",
      "Name: (South Congress, The Drag), dtype: float64\n",
      "957    2.4\n",
      "959    1.9\n",
      "Name: (Southside, Central), dtype: float64\n",
      "955    0.9\n",
      "Name: (Southside, South Berkeley), dtype: float64\n",
      "953    2.1\n",
      "Name: (Southside, West Berkeley), dtype: float64\n",
      "535    1.8\n",
      "Name: (St Thomas, CBD), dtype: float64\n",
      "570    3.0\n",
      "Name: (Stonewater, Lexington Park at Amberly), dtype: float64\n",
      "447    1.5\n",
      "Name: (Storyville, Faubourg Marigny), dtype: float64\n",
      "472    1.6\n",
      "Name: (Storyville, Marigny), dtype: float64\n",
      "245    35.1\n",
      "Name: (Sugar Land, Houston), dtype: float64\n",
      "512    8.7\n",
      "Name: (Summerwinds, Whitebridge), dtype: float64\n",
      "925    0.7\n",
      "Name: (Sunnyside, Ingleside), dtype: float64\n",
      "364    17.6\n",
      "Name: (Sunnyvale, Newark), dtype: float64\n",
      "346    7.5\n",
      "Name: (Tanglewood, Parkway), dtype: float64\n",
      "87    5.1\n",
      "Name: (Tanglewood, Preston), dtype: float64\n",
      "161    5.8\n",
      "328    6.5\n",
      "Name: (Tanglewood, Whitebridge), dtype: float64\n",
      "931    1.2\n",
      "Name: (Tenderloin, SOMISSPO), dtype: float64\n",
      "211    2.0\n",
      "228    1.7\n",
      "Name: (The Drag, Congress Ave District), dtype: float64\n",
      "218    5.7\n",
      "226    2.0\n",
      "Name: (The Drag, Convention Center District), dtype: float64\n",
      "221    10.5\n",
      "Name: (The Drag, North Austin), dtype: float64\n",
      "216    2.2\n",
      "224    2.0\n",
      "Name: (The Drag, South Congress), dtype: float64\n",
      "874    29.8\n",
      "Name: (Topton, Bryson City), dtype: float64\n",
      "872    40.7\n",
      "Name: (Topton, Hayesville), dtype: float64\n",
      "397    3.3\n",
      "Name: (Townes at Everett Crossing, Chessington), dtype: float64\n",
      "421    0.9\n",
      "Name: (Tribeca, Financial District), dtype: float64\n",
      "354    5.0\n",
      "Name: (University District, Capitol One), dtype: float64\n",
      "109    14.1\n",
      "117    14.7\n",
      "Name: (Unknown Location, Colombo), dtype: float64\n",
      "122     12.7\n",
      "124      5.2\n",
      "128      7.6\n",
      "132      3.5\n",
      "136     14.4\n",
      "144     14.5\n",
      "145      2.4\n",
      "150     13.0\n",
      "663      5.7\n",
      "680      5.7\n",
      "685     12.2\n",
      "688      9.8\n",
      "690      4.9\n",
      "732     10.8\n",
      "736      2.8\n",
      "738      5.5\n",
      "741      8.8\n",
      "745     13.0\n",
      "748      9.2\n",
      "764     10.5\n",
      "767     18.3\n",
      "778     12.6\n",
      "781     10.5\n",
      "805      9.8\n",
      "1060     7.7\n",
      "1075     5.7\n",
      "1080     4.9\n",
      "1084     2.1\n",
      "Name: (Unknown Location, Islamabad), dtype: float64\n",
      "1123     7.9\n",
      "1126    10.4\n",
      "1129     4.4\n",
      "1134    11.9\n",
      "1141     4.1\n",
      "1144    12.9\n",
      "Name: (Unknown Location, Kar?chi), dtype: float64\n",
      "711      9.2\n",
      "715      3.9\n",
      "719      2.9\n",
      "723      9.6\n",
      "791     33.2\n",
      "794      8.3\n",
      "1095    14.0\n",
      "1102     7.1\n",
      "1104    10.7\n",
      "Name: (Unknown Location, Lahore), dtype: float64\n",
      "986    3.5\n",
      "Name: (Unknown Location, Morrisville), dtype: float64\n",
      "676     7.6\n",
      "698     8.7\n",
      "700     7.7\n",
      "728    10.1\n",
      "Name: (Unknown Location, Noorpur Shahan), dtype: float64\n",
      "154    20.0\n",
      "669     1.4\n",
      "695     7.9\n",
      "750    17.2\n",
      "769     9.6\n",
      "787    17.9\n",
      "803    17.1\n",
      "810    12.7\n",
      "813    17.0\n",
      "Name: (Unknown Location, R?walpindi), dtype: float64\n",
      "1067    10.2\n",
      "1071    12.0\n",
      "1087    12.0\n",
      "Name: (Unknown Location, Rawalpindi), dtype: float64\n",
      "121     23.5\n",
      "126     18.3\n",
      "127     11.2\n",
      "135      2.5\n",
      "142      3.2\n",
      "        ... \n",
      "1093     3.2\n",
      "1094    12.3\n",
      "1100     9.6\n",
      "1101     1.3\n",
      "1152    16.2\n",
      "Name: (Unknown Location, Unknown Location), Length: 86, dtype: float64\n",
      "1018    1.8\n",
      "Name: (Wake Co., Morrisville), dtype: float64\n",
      "652    31.9\n",
      "Name: (Wake Forest, Cary), dtype: float64\n",
      "630    6.6\n",
      "Name: (Washington, Arlington), dtype: float64\n",
      "253    6.2\n",
      "Name: (Washington Avenue, Midtown), dtype: float64\n",
      "460    2.1\n",
      "Name: (Waverly Place, Macgregor Downs), dtype: float64\n",
      "170    6.8\n",
      "205    7.6\n",
      "342    6.8\n",
      "Name: (Waverly Place, Whitebridge), dtype: float64\n",
      "177    8.0\n",
      "301    8.0\n",
      "322    8.0\n",
      "588    8.0\n",
      "Name: (Wayne Ridge, Whitebridge), dtype: float64\n",
      "915    3.3\n",
      "935    0.8\n",
      "Name: (West Berkeley, Central), dtype: float64\n",
      "837    4.1\n",
      "Name: (West Berkeley, North Berkeley Hills), dtype: float64\n",
      "946    5.9\n",
      "Name: (West Berkeley, South), dtype: float64\n",
      "954    4.0\n",
      "Name: (West Berkeley, Southside), dtype: float64\n",
      "624    2.0\n",
      "Name: (West End, Northwest Rectangle), dtype: float64\n",
      "6    7.1\n",
      "Name: (West Palm Beach, Palm Beach), dtype: float64\n",
      "5    4.3\n",
      "Name: (West Palm Beach, West Palm Beach), dtype: float64\n",
      "230    2.1\n",
      "Name: (West University, Congress Ave District), dtype: float64\n",
      "209    2.3\n",
      "Name: (West University, South Congress), dtype: float64\n",
      "194    4.2\n",
      "403    3.8\n",
      "Name: (Weston, Weston), dtype: float64\n",
      "167    4.2\n",
      "Name: (Westpark Place, Hazelwood), dtype: float64\n",
      "163    1.7\n",
      "179    2.3\n",
      "267    2.2\n",
      "306    1.8\n",
      "344    2.3\n",
      "349    3.9\n",
      "373    1.9\n",
      "391    1.8\n",
      "428    1.7\n",
      "496    1.8\n",
      "600    2.1\n",
      "608    2.2\n",
      "611    1.8\n",
      "654    1.8\n",
      "894    1.8\n",
      "901    1.8\n",
      "Name: (Westpark Place, Whitebridge), dtype: float64\n",
      "612    6.2\n",
      "Name: (Whitebridge, Arlington Park at Amberly), dtype: float64\n",
      "332    4.9\n",
      "Name: (Whitebridge, Burtrose), dtype: float64\n",
      "572    3.9\n",
      "Name: (Whitebridge, Chessington), dtype: float64\n",
      "83     4.3\n",
      "199    2.8\n",
      "309    2.8\n",
      "574    2.8\n",
      "577    2.7\n",
      "617    2.8\n",
      "632    2.7\n",
      "827    3.3\n",
      "Name: (Whitebridge, Edgehill Farms), dtype: float64\n",
      "636    5.2\n",
      "Name: (Whitebridge, Farmington Woods), dtype: float64\n",
      "40     2.0\n",
      "174    2.6\n",
      "407    3.0\n",
      "898    2.5\n",
      "Name: (Whitebridge, Hazelwood), dtype: float64\n",
      "158    3.1\n",
      "648    2.2\n",
      "Name: (Whitebridge, Heritage Pines), dtype: float64\n",
      "383    4.5\n",
      "Name: (Whitebridge, Kildaire Farms), dtype: float64\n",
      "32    7.2\n",
      "Name: (Whitebridge, Lake Wellingborough), dtype: float64\n",
      "72    9.0\n",
      "Name: (Whitebridge, Macgregor Downs), dtype: float64\n",
      "85     5.3\n",
      "180    5.2\n",
      "Name: (Whitebridge, Northwoods), dtype: float64\n",
      "595    1.5\n",
      "819    2.1\n",
      "860    2.1\n",
      "Name: (Whitebridge, Parkway), dtype: float64\n",
      "156    1.5\n",
      "264    1.7\n",
      "371    2.8\n",
      "Name: (Whitebridge, Preston), dtype: float64\n",
      "381    3.6\n",
      "401    7.8\n",
      "857    3.6\n",
      "Name: (Whitebridge, Savon Height), dtype: float64\n",
      "569    6.4\n",
      "Name: (Whitebridge, Stonewater), dtype: float64\n",
      "511    8.8\n",
      "Name: (Whitebridge, Summerwinds), dtype: float64\n",
      "160    6.0\n",
      "327    6.0\n",
      "345    6.2\n",
      "Name: (Whitebridge, Tanglewood), dtype: float64\n",
      "169    7.7\n",
      "204    7.2\n",
      "341    7.7\n",
      "459    7.1\n",
      "641    6.9\n",
      "Name: (Whitebridge, Waverly Place), dtype: float64\n",
      "176    8.0\n",
      "196    7.8\n",
      "300    7.9\n",
      "321    8.2\n",
      "Name: (Whitebridge, Wayne Ridge), dtype: float64\n",
      "42     1.9\n",
      "162    6.3\n",
      "166    1.9\n",
      "171    2.1\n",
      "178    2.2\n",
      "266    2.0\n",
      "343    2.1\n",
      "348    2.2\n",
      "495    1.6\n",
      "599    2.2\n",
      "607    2.2\n",
      "653    1.9\n",
      "893    1.4\n",
      "900    1.4\n",
      "Name: (Whitebridge, Westpark Place), dtype: float64\n",
      "206    1.6\n",
      "263    1.4\n",
      "516    0.6\n",
      "889    1.2\n",
      "890    1.0\n",
      "891    4.1\n",
      "892    4.2\n",
      "Name: (Whitebridge, Whitebridge), dtype: float64\n",
      "64    8.3\n",
      "Name: (Whitebridge, Williamsburg Manor), dtype: float64\n",
      "870    133.6\n",
      "Name: (Winston Salem, Asheville), dtype: float64\n"
     ]
    },
    {
     "data": {
      "text/plain": [
       "START*         STOP*             \n",
       "Agnew          Agnew                 None\n",
       "               Cory                  None\n",
       "               Renaissance           None\n",
       "Almond         Bryson City           None\n",
       "Apex           Apex                  None\n",
       "                                     ... \n",
       "Whitebridge    Wayne Ridge           None\n",
       "               Westpark Place        None\n",
       "               Whitebridge           None\n",
       "               Williamsburg Manor    None\n",
       "Winston Salem  Asheville             None\n",
       "Name: MILES*, Length: 363, dtype: object"
      ]
     },
     "execution_count": 30,
     "metadata": {},
     "output_type": "execute_result"
    }
   ],
   "source": [
    "df.groupby(['START*','STOP*'])['MILES*'].apply(print)"
   ]
  },
  {
   "cell_type": "code",
   "execution_count": 31,
   "id": "c5c2f292",
   "metadata": {},
   "outputs": [
    {
     "data": {
      "text/plain": [
       "START*            STOP*           \n",
       "Morrisville       Cary                395.7\n",
       "Cary              Durham              390.0\n",
       "                  Morrisville         380.0\n",
       "Raleigh           Cary                365.7\n",
       "Cary              Raleigh             336.5\n",
       "Durham            Cary                324.5\n",
       "Latta             Jacksonville        310.3\n",
       "Islamabad         Unknown Location    267.0\n",
       "Cary              Cary                255.9\n",
       "Unknown Location  Islamabad           243.8\n",
       "Name: MILES*, dtype: float64"
      ]
     },
     "execution_count": 31,
     "metadata": {},
     "output_type": "execute_result"
    }
   ],
   "source": [
    "df.groupby(['START*','STOP*'])['MILES*'].sum().sort_values(ascending=False)[1:11]"
   ]
  },
  {
   "cell_type": "markdown",
   "id": "f8d9dc98",
   "metadata": {},
   "source": [
    ">**Cary-Durham & Cary-Moriisville and vice versa are the farthese distance ride.** "
   ]
  },
  {
   "cell_type": "markdown",
   "id": "4edd1b39",
   "metadata": {},
   "source": [
    "#### Checking for Round Trip**"
   ]
  },
  {
   "cell_type": "code",
   "execution_count": 32,
   "id": "d50a25ba",
   "metadata": {},
   "outputs": [],
   "source": [
    "def is_roundtrip(df):\n",
    "    if df['START*'] == df['STOP*']:\n",
    "        return 'YES'\n",
    "    else:\n",
    "        return 'NO'\n",
    "  \n",
    "# Adding ROUND_TRIP* column in the dataframe\n",
    "df['ROUND_TRIP*'] = df.apply(is_roundtrip, axis = 1) # axis = 1 means it is for column"
   ]
  },
  {
   "cell_type": "code",
   "execution_count": 33,
   "id": "f1a78971",
   "metadata": {},
   "outputs": [
    {
     "data": {
      "text/plain": [
       "ROUND_TRIP*\n",
       "NO     866\n",
       "YES    288\n",
       "Name: count, dtype: int64"
      ]
     },
     "execution_count": 33,
     "metadata": {},
     "output_type": "execute_result"
    }
   ],
   "source": [
    "df['ROUND_TRIP*'].value_counts()"
   ]
  },
  {
   "cell_type": "code",
   "execution_count": 34,
   "id": "7203ae00",
   "metadata": {},
   "outputs": [
    {
     "data": {
      "text/plain": [
       "<Axes: xlabel='ROUND_TRIP*', ylabel='count'>"
      ]
     },
     "execution_count": 34,
     "metadata": {},
     "output_type": "execute_result"
    },
    {
     "data": {
      "image/png": "[encoded data removed]",
      "text/plain": [
       "<Figure size 640x480 with 1 Axes>"
      ]
     },
     "metadata": {},
     "output_type": "display_data"
    }
   ],
   "source": [
    "sns.countplot(x='ROUND_TRIP*', data = df, order=df['ROUND_TRIP*'].value_counts().index)"
   ]
  },
  {
   "cell_type": "markdown",
   "id": "a58f48df",
   "metadata": {},
   "source": [
    ">***Most of the trip is one-way. Only 25% is round-trip.***"
   ]
  },
  {
   "cell_type": "markdown",
   "id": "83fdca2e",
   "metadata": {},
   "source": [
    "<br>"
   ]
  },
  {
   "cell_type": "markdown",
   "id": "523647b0",
   "metadata": {},
   "source": [
    "## Answering Some Other Questions"
   ]
  },
  {
   "cell_type": "code",
   "execution_count": 35,
   "id": "c7e9b794",
   "metadata": {},
   "outputs": [],
   "source": [
    "# extracting and adding columns related to date and time that we might need\n",
    "\n",
    "hour = []\n",
    "day = []\n",
    "dayofweek = []\n",
    "month = []\n",
    "weekday = []\n",
    "\n",
    "for x in df['START_DATE*']:\n",
    "    hour.append(x.hour)\n",
    "    day.append(x.day)\n",
    "    dayofweek.append(x.dayofweek)\n",
    "    month.append(x.month)\n",
    "    weekday.append(calendar.day_name[dayofweek[-1]])\n",
    "    \n",
    "df['HOUR'] = hour\n",
    "df['DAY'] = day\n",
    "df['DAY OF WEEK'] = dayofweek\n",
    "df['MONTH'] = month\n",
    "df['WEEKDAY'] = weekday"
   ]
  },
  {
   "cell_type": "code",
   "execution_count": 36,
   "id": "a3041e10",
   "metadata": {},
   "outputs": [
    {
     "data": {
      "text/html": [
       "<div>\n",
       "<style scoped>\n",
       "    .dataframe tbody tr th:only-of-type {\n",
       "        vertical-align: middle;\n",
       "    }\n",
       "\n",
       "    .dataframe tbody tr th {\n",
       "        vertical-align: top;\n",
       "    }\n",
       "\n",
       "    .dataframe thead th {\n",
       "        text-align: right;\n",
       "    }\n",
       "</style>\n",
       "<table border=\"1\" class=\"dataframe\">\n",
       "  <thead>\n",
       "    <tr style=\"text-align: right;\">\n",
       "      <th></th>\n",
       "      <th>START_DATE*</th>\n",
       "      <th>END_DATE*</th>\n",
       "      <th>CATEGORY*</th>\n",
       "      <th>START*</th>\n",
       "      <th>STOP*</th>\n",
       "      <th>MILES*</th>\n",
       "      <th>ROUND_TRIP*</th>\n",
       "      <th>HOUR</th>\n",
       "      <th>DAY</th>\n",
       "      <th>DAY OF WEEK</th>\n",
       "      <th>MONTH</th>\n",
       "      <th>WEEKDAY</th>\n",
       "    </tr>\n",
       "  </thead>\n",
       "  <tbody>\n",
       "    <tr>\n",
       "      <th>0</th>\n",
       "      <td>2016-01-01 21:11:00</td>\n",
       "      <td>2016-01-01 21:17:00</td>\n",
       "      <td>Business</td>\n",
       "      <td>Fort Pierce</td>\n",
       "      <td>Fort Pierce</td>\n",
       "      <td>5.1</td>\n",
       "      <td>YES</td>\n",
       "      <td>21</td>\n",
       "      <td>1</td>\n",
       "      <td>4</td>\n",
       "      <td>1</td>\n",
       "      <td>Friday</td>\n",
       "    </tr>\n",
       "    <tr>\n",
       "      <th>1</th>\n",
       "      <td>2016-01-02 01:25:00</td>\n",
       "      <td>2016-01-02 01:37:00</td>\n",
       "      <td>Business</td>\n",
       "      <td>Fort Pierce</td>\n",
       "      <td>Fort Pierce</td>\n",
       "      <td>5.0</td>\n",
       "      <td>YES</td>\n",
       "      <td>1</td>\n",
       "      <td>2</td>\n",
       "      <td>5</td>\n",
       "      <td>1</td>\n",
       "      <td>Saturday</td>\n",
       "    </tr>\n",
       "    <tr>\n",
       "      <th>2</th>\n",
       "      <td>2016-01-02 20:25:00</td>\n",
       "      <td>2016-01-02 20:38:00</td>\n",
       "      <td>Business</td>\n",
       "      <td>Fort Pierce</td>\n",
       "      <td>Fort Pierce</td>\n",
       "      <td>4.8</td>\n",
       "      <td>YES</td>\n",
       "      <td>20</td>\n",
       "      <td>2</td>\n",
       "      <td>5</td>\n",
       "      <td>1</td>\n",
       "      <td>Saturday</td>\n",
       "    </tr>\n",
       "    <tr>\n",
       "      <th>3</th>\n",
       "      <td>2016-01-05 17:31:00</td>\n",
       "      <td>2016-01-05 17:45:00</td>\n",
       "      <td>Business</td>\n",
       "      <td>Fort Pierce</td>\n",
       "      <td>Fort Pierce</td>\n",
       "      <td>4.7</td>\n",
       "      <td>YES</td>\n",
       "      <td>17</td>\n",
       "      <td>5</td>\n",
       "      <td>1</td>\n",
       "      <td>1</td>\n",
       "      <td>Tuesday</td>\n",
       "    </tr>\n",
       "    <tr>\n",
       "      <th>4</th>\n",
       "      <td>2016-01-06 14:42:00</td>\n",
       "      <td>2016-01-06 15:49:00</td>\n",
       "      <td>Business</td>\n",
       "      <td>Fort Pierce</td>\n",
       "      <td>West Palm Beach</td>\n",
       "      <td>63.7</td>\n",
       "      <td>NO</td>\n",
       "      <td>14</td>\n",
       "      <td>6</td>\n",
       "      <td>2</td>\n",
       "      <td>1</td>\n",
       "      <td>Wednesday</td>\n",
       "    </tr>\n",
       "  </tbody>\n",
       "</table>\n",
       "</div>"
      ],
      "text/plain": [
       "          START_DATE*           END_DATE* CATEGORY*       START*  \\\n",
       "0 2016-01-01 21:11:00 2016-01-01 21:17:00  Business  Fort Pierce   \n",
       "1 2016-01-02 01:25:00 2016-01-02 01:37:00  Business  Fort Pierce   \n",
       "2 2016-01-02 20:25:00 2016-01-02 20:38:00  Business  Fort Pierce   \n",
       "3 2016-01-05 17:31:00 2016-01-05 17:45:00  Business  Fort Pierce   \n",
       "4 2016-01-06 14:42:00 2016-01-06 15:49:00  Business  Fort Pierce   \n",
       "\n",
       "             STOP*  MILES* ROUND_TRIP*  HOUR  DAY  DAY OF WEEK  MONTH  \\\n",
       "0      Fort Pierce     5.1         YES    21    1            4      1   \n",
       "1      Fort Pierce     5.0         YES     1    2            5      1   \n",
       "2      Fort Pierce     4.8         YES    20    2            5      1   \n",
       "3      Fort Pierce     4.7         YES    17    5            1      1   \n",
       "4  West Palm Beach    63.7          NO    14    6            2      1   \n",
       "\n",
       "     WEEKDAY  \n",
       "0     Friday  \n",
       "1   Saturday  \n",
       "2   Saturday  \n",
       "3    Tuesday  \n",
       "4  Wednesday  "
      ]
     },
     "execution_count": 36,
     "metadata": {},
     "output_type": "execute_result"
    }
   ],
   "source": [
    "df.head()"
   ]
  },
  {
   "cell_type": "markdown",
   "id": "0f9b6493",
   "metadata": {},
   "source": [
    "### How long do people travel with UBER?"
   ]
  },
  {
   "cell_type": "code",
   "execution_count": 37,
   "id": "e1923f0a",
   "metadata": {},
   "outputs": [
    {
     "data": {
      "text/plain": [
       "<Axes: ylabel='Frequency'>"
      ]
     },
     "execution_count": 37,
     "metadata": {},
     "output_type": "execute_result"
    },
    {
     "data": {
      "image/png": "[encoded data removed]",
      "text/plain": [
       "<Figure size 640x480 with 1 Axes>"
      ]
     },
     "metadata": {},
     "output_type": "display_data"
    }
   ],
   "source": [
    "df['MILES*'].plot.hist()"
   ]
  },
  {
   "cell_type": "markdown",
   "id": "249d3a43",
   "metadata": {},
   "source": [
    "> *Most people book it for short distance. like for 1-50 miles.*"
   ]
  },
  {
   "cell_type": "markdown",
   "id": "058c7f71",
   "metadata": {},
   "source": [
    "### What hour do most people take UBER to their Destination?"
   ]
  },
  {
   "cell_type": "code",
   "execution_count": 38,
   "id": "03a4a9e9",
   "metadata": {},
   "outputs": [
    {
     "data": {
      "text/plain": [
       "Text(0.5, 1.0, 'Number of Trips Vs Hours')"
      ]
     },
     "execution_count": 38,
     "metadata": {},
     "output_type": "execute_result"
    },
    {
     "data": {
      "image/png": "[encoded data removed]",
      "text/plain": [
       "<Figure size 1000x500 with 1 Axes>"
      ]
     },
     "metadata": {},
     "output_type": "display_data"
    }
   ],
   "source": [
    "hours = df['START_DATE*'].dt.hour.value_counts()\n",
    "\n",
    "hours.plot(kind = 'bar', color = 'red', figsize=(10,5))\n",
    "\n",
    "plt.xlabel('Hours')\n",
    "plt.ylabel('Frequency')\n",
    "plt.title('Number of Trips Vs Hours')"
   ]
  },
  {
   "cell_type": "markdown",
   "id": "3e7cc5bd",
   "metadata": {},
   "source": [
    "> *Most of the Trips is at 1:00 PM, 2:00 PM, then 5:00 PM, 3:00 PM. <br>UBER can make use of this information for advertise, target people and offer discount.*"
   ]
  },
  {
   "cell_type": "markdown",
   "id": "2bb86afb",
   "metadata": {},
   "source": [
    "### Check the Purpose of Trips"
   ]
  },
  {
   "cell_type": "code",
   "execution_count": null,
   "id": "fbcc06cd",
   "metadata": {},
   "outputs": [],
   "source": [
    "# with this info, UBER will know which offer to give, what kind of advertisment to run.\n",
    "\n",
    "df['PURPOSE*'].value_counts()"
   ]
  },
  {
   "cell_type": "code",
   "execution_count": null,
   "id": "718b100e",
   "metadata": {},
   "outputs": [],
   "source": [
    "df['PURPOSE*'].value_counts().plot(kind = 'bar', figsize = (10, 5), color = 'brown')"
   ]
  },
  {
   "cell_type": "markdown",
   "id": "cc10e5e4",
   "metadata": {},
   "source": [
    "> *Meeting has the highest Purpose.* <br> **HINT:** For your next meeting, we are offering you 10% discount."
   ]
  },
  {
   "cell_type": "markdown",
   "id": "2575ec2b",
   "metadata": {},
   "source": [
    "### Which day has the highest Number of Trips"
   ]
  },
  {
   "cell_type": "code",
   "execution_count": 39,
   "id": "ea504249",
   "metadata": {},
   "outputs": [
    {
     "data": {
      "text/plain": [
       "WEEKDAY\n",
       "Friday       206\n",
       "Tuesday      175\n",
       "Monday       174\n",
       "Thursday     154\n",
       "Saturday     150\n",
       "Sunday       148\n",
       "Wednesday    147\n",
       "Name: count, dtype: int64"
      ]
     },
     "execution_count": 39,
     "metadata": {},
     "output_type": "execute_result"
    }
   ],
   "source": [
    "df['WEEKDAY'].value_counts()"
   ]
  },
  {
   "cell_type": "code",
   "execution_count": 40,
   "id": "264e1156",
   "metadata": {},
   "outputs": [
    {
     "data": {
      "text/plain": [
       "<Axes: xlabel='WEEKDAY'>"
      ]
     },
     "execution_count": 40,
     "metadata": {},
     "output_type": "execute_result"
    },
    {
     "data": {
      "image/png": "[encoded data removed]",
      "text/plain": [
       "<Figure size 1000x500 with 1 Axes>"
      ]
     },
     "metadata": {},
     "output_type": "display_data"
    }
   ],
   "source": [
    "df['WEEKDAY'].value_counts().plot(kind = 'bar', figsize = (10, 5), color = 'y')"
   ]
  },
  {
   "cell_type": "markdown",
   "id": "f99647fb",
   "metadata": {},
   "source": [
    "> ***FRIDAY** has the most number of Trip.*"
   ]
  },
  {
   "cell_type": "markdown",
   "id": "4a3b0255",
   "metadata": {},
   "source": [
    "### What are the Number of Trips per Each Day?"
   ]
  },
  {
   "cell_type": "code",
   "execution_count": 41,
   "id": "5e108907",
   "metadata": {},
   "outputs": [
    {
     "data": {
      "text/plain": [
       "<Axes: xlabel='DAY'>"
      ]
     },
     "execution_count": 41,
     "metadata": {},
     "output_type": "execute_result"
    },
    {
     "data": {
      "image/png": "[encoded data removed]",
      "text/plain": [
       "<Figure size 1000x500 with 1 Axes>"
      ]
     },
     "metadata": {},
     "output_type": "display_data"
    }
   ],
   "source": [
    "df['DAY'].value_counts().plot(kind = 'bar', figsize = (10, 5), color = 'blue')\n"
   ]
  },
  {
   "cell_type": "markdown",
   "id": "ccbd6f68",
   "metadata": {},
   "source": [
    "### What Are The Trips In The Month?"
   ]
  },
  {
   "cell_type": "code",
   "execution_count": 42,
   "id": "4cd0be8b",
   "metadata": {},
   "outputs": [
    {
     "data": {
      "text/plain": [
       "<Axes: xlabel='MONTH'>"
      ]
     },
     "execution_count": 42,
     "metadata": {},
     "output_type": "execute_result"
    },
    {
     "data": {
      "image/png": "[encoded data removed]",
      "text/plain": [
       "<Figure size 1000x500 with 1 Axes>"
      ]
     },
     "metadata": {},
     "output_type": "display_data"
    }
   ],
   "source": [
    "df['MONTH'].value_counts().plot(kind = 'bar', figsize = (10, 5), color = 'red')"
   ]
  },
  {
   "cell_type": "markdown",
   "id": "b90cee11",
   "metadata": {},
   "source": [
    "> **December receive the highest booking.**"
   ]
  },
  {
   "cell_type": "markdown",
   "id": "5c1ca008",
   "metadata": {},
   "source": [
    "### The starting points of trips. Where Do People Start Boarding Their Trip From Most?"
   ]
  },
  {
   "cell_type": "code",
   "execution_count": 43,
   "id": "4d2282ec",
   "metadata": {},
   "outputs": [
    {
     "data": {
      "text/plain": [
       "START*\n",
       "Cary                201\n",
       "Unknown Location    148\n",
       "Morrisville          85\n",
       "Whitebridge          68\n",
       "Islamabad            57\n",
       "                   ... \n",
       "Florence              1\n",
       "Ridgeland             1\n",
       "Daytona Beach         1\n",
       "Sky Lake              1\n",
       "Gampaha               1\n",
       "Name: count, Length: 177, dtype: int64"
      ]
     },
     "execution_count": 43,
     "metadata": {},
     "output_type": "execute_result"
    }
   ],
   "source": [
    "df['START*'].value_counts()"
   ]
  },
  {
   "cell_type": "markdown",
   "id": "076f96b0",
   "metadata": {},
   "source": [
    "> **Most people start their trip from Cary.**"
   ]
  },
  {
   "cell_type": "code",
   "execution_count": 44,
   "id": "7fe6e391",
   "metadata": {},
   "outputs": [
    {
     "data": {
      "text/plain": [
       "<Axes: ylabel='START*'>"
      ]
     },
     "execution_count": 44,
     "metadata": {},
     "output_type": "execute_result"
    },
    {
     "data": {
      "image/png": "[encoded data removed]",
      "text/plain": [
       "<Figure size 1000x500 with 1 Axes>"
      ]
     },
     "metadata": {},
     "output_type": "display_data"
    }
   ],
   "source": [
    "df['START*'].value_counts()[:20].plot(kind = 'barh', figsize = (10, 5), color = 'purple')"
   ]
  },
  {
   "cell_type": "code",
   "execution_count": null,
   "id": "0ea9ee0a",
   "metadata": {},
   "outputs": [],
   "source": []
  }
 ],
 "metadata": {
  "kernelspec": {
   "display_name": "Python 3 (ipykernel)",
   "language": "python",
   "name": "python3"
  },
  "language_info": {
   "codemirror_mode": {
    "name": "ipython",
    "version": 3
   },
   "file_extension": ".py",
   "mimetype": "text/x-python",
   "name": "python",
   "nbconvert_exporter": "python",
   "pygments_lexer": "ipython3",
   "version": "3.11.1"
  }
 },
 "nbformat": 4,
 "nbformat_minor": 5
}
